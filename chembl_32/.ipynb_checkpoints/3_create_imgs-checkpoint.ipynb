{
 "cells": [
  {
   "cell_type": "code",
   "execution_count": 2,
   "id": "0dfccb5e",
   "metadata": {},
   "outputs": [],
   "source": [
    "import os\n",
    "import cv2\n",
    "import sys\n",
    "import json\n",
    "import numpy as np\n",
    "import pandas as pd\n",
    "import rdkit\n",
    "from rdkit import Chem\n",
    "from rdkit.Chem.Draw.MolDrawing import DrawingOptions\n",
    "from rdkit.Chem import Draw\n",
    "\n",
    "import cairosvg\n",
    "import subprocess\n",
    "\n",
    "import tqdm\n",
    "from tqdm import contrib as tc"
   ]
  },
  {
   "cell_type": "code",
   "execution_count": 3,
   "id": "66d5ff44",
   "metadata": {},
   "outputs": [],
   "source": [
    "def save_comp_imgs_from_smiles(training_files_path, tar_id, comp_id, smiles, rot=0, SIZE=200, rot_size=300):\n",
    "    mol = Chem.MolFromSmiles(smiles)\n",
    "    DrawingOptions.atomLabelFontSize = 55\n",
    "    DrawingOptions.dotsPerAngstrom = 100\n",
    "    DrawingOptions.bondLineWidth = 1.5\n",
    "    # Use MolToFile(mol, path, size, imageType=\"png\", fitImage=True)\n",
    "    \n",
    "    # For higher quality of image\n",
    "    path_to_give_svg = os.path.join(training_files_path, \"target_training_datasets\", \n",
    "                                tar_id, \"imgs\", \"{}.svg\".format(comp_id))\n",
    "    \n",
    "    path_to_give_png = os.path.join(training_files_path, \"target_training_datasets\", \n",
    "                                    tar_id, \"imgs\", \"{}.png\".format(comp_id))\n",
    "    \n",
    "    Draw.MolToFile(mol, path_to_give_svg , size = (SIZE, SIZE ))\n",
    "    cairosvg.svg2png(url = path_to_give_svg, write_to = path_to_give_png)\n",
    "    subprocess.call([\"rm\", path_to_give_svg])\n",
    "    \n",
    "    # Make it larger with padding to prevent data loss while rotation\n",
    "    image = cv2.imread(path_to_give_png)\n",
    "    \n",
    "    white_color = (255,255,255)\n",
    "    full_image = np.full((rot_size, rot_size, 3), white_color, dtype = np.uint8)\n",
    "    # compute center offset\n",
    "    gap = rot_size - SIZE\n",
    "    (cX, cY) = (gap // 2, gap // 2)\n",
    "    \n",
    "    # copy image into center of result image\n",
    "    full_image[cY:cY + SIZE, cX:cX + SIZE] = image\n",
    "    \n",
    "    if rot != 0:\n",
    "        # Rotate it\n",
    "        (cX, cY) = (rot_size // 2, rot_size // 2)\n",
    "        M = cv2.getRotationMatrix2D((cX, cY), rot, 1.0)\n",
    "        full_image = cv2.warpAffine(full_image, M, (rot_size, rot_size), borderMode=cv2.INTER_LINEAR, #cv2.BORDER_CONSTANT, \n",
    "                                    borderValue = white_color)\n",
    "    \n",
    "    # save result\n",
    "    cv2.imwrite(path_to_give_png, full_image)"
   ]
  },
  {
   "cell_type": "code",
   "execution_count": 4,
   "id": "601dccd9",
   "metadata": {},
   "outputs": [
    {
     "data": {
      "text/plain": [
       "'/home/hayriye/DEEPScreen2.2/training_files'"
      ]
     },
     "execution_count": 4,
     "metadata": {},
     "output_type": "execute_result"
    }
   ],
   "source": [
    "code_path = os.getcwd()\n",
    "project_file_path = code_path.split(\"chembl\")[0]\n",
    "training_files_path = os.path.join(project_file_path, \"training_files\")\n",
    "training_files_path"
   ]
  },
  {
   "cell_type": "code",
   "execution_count": null,
   "id": "579c12a3",
   "metadata": {},
   "outputs": [],
   "source": []
  },
  {
   "cell_type": "code",
   "execution_count": 5,
   "id": "b1c5e40a",
   "metadata": {},
   "outputs": [
    {
     "data": {
      "text/plain": [
       "'/media/ubuntu/8TB/hayriye/DEEPScreen2.2'"
      ]
     },
     "execution_count": 5,
     "metadata": {},
     "output_type": "execute_result"
    }
   ],
   "source": [
    "chembl_version = code_path.split(\"chembl\")[1].strip(\"_\")\n",
    "deepscreen_version = code_path.split(\"DEEPScreen\")[1].split(\"/\")[0]\n",
    "media_project_file_path = f\"/media/ubuntu/8TB/hayriye/DEEPScreen{deepscreen_version}\"\n",
    "media_project_file_path"
   ]
  },
  {
   "cell_type": "code",
   "execution_count": 6,
   "id": "ded27434",
   "metadata": {},
   "outputs": [
    {
     "data": {
      "text/plain": [
       "'/media/ubuntu/8TB/hayriye/DEEPScreen2.2/training_files'"
      ]
     },
     "execution_count": 6,
     "metadata": {},
     "output_type": "execute_result"
    }
   ],
   "source": [
    "media_training_files_path = os.path.join(media_project_file_path, \"training_files\")\n",
    "media_training_files_path"
   ]
  },
  {
   "cell_type": "code",
   "execution_count": 25,
   "id": "71fee6cb",
   "metadata": {},
   "outputs": [
    {
     "name": "stdout",
     "output_type": "stream",
     "text": [
      "790 ['CHEMBL3066', 'CHEMBL261', 'CHEMBL281', 'CHEMBL205', 'CHEMBL3729']\n"
     ]
    }
   ],
   "source": [
    "protein_list = pd.read_csv(training_files_path + f\"/chembl{chembl_version}_training_target_list.txt\", header=None)\n",
    "protein_list = [line[0] for line in protein_list.values.tolist()]\n",
    "print(len(protein_list), protein_list[:5])"
   ]
  },
  {
   "cell_type": "code",
   "execution_count": null,
   "id": "0917d867",
   "metadata": {},
   "outputs": [],
   "source": []
  },
  {
   "cell_type": "code",
   "execution_count": 26,
   "id": "2bb1838d",
   "metadata": {},
   "outputs": [],
   "source": [
    "focus_proteins = [\"CHEMBL4282\", \"CHEMBL4683\", \"CHEMBL284\", \"CHEMBL2409\", \"CHEMBL5658\"]\n",
    "\n",
    "for protein in reversed(focus_proteins):\n",
    "    #i = protein_list.index(protein)\n",
    "    protein_list.remove(protein)\n",
    "    protein_list.insert(0, protein)"
   ]
  },
  {
   "cell_type": "code",
   "execution_count": 27,
   "id": "7cb3092b",
   "metadata": {},
   "outputs": [
    {
     "name": "stdout",
     "output_type": "stream",
     "text": [
      "790 ['CHEMBL4282', 'CHEMBL4683', 'CHEMBL284', 'CHEMBL2409', 'CHEMBL5658', 'CHEMBL3066', 'CHEMBL261', 'CHEMBL281', 'CHEMBL205', 'CHEMBL3729']\n"
     ]
    }
   ],
   "source": [
    "print(len(protein_list), protein_list[:10])"
   ]
  },
  {
   "cell_type": "code",
   "execution_count": 10,
   "id": "3cdb6316",
   "metadata": {},
   "outputs": [
    {
     "data": {
      "text/plain": [
       "66"
      ]
     },
     "execution_count": 10,
     "metadata": {},
     "output_type": "execute_result"
    }
   ],
   "source": [
    "protein_list.index(\"CHEMBL203\")"
   ]
  },
  {
   "cell_type": "code",
   "execution_count": null,
   "id": "fdcc201b",
   "metadata": {},
   "outputs": [],
   "source": []
  },
  {
   "cell_type": "code",
   "execution_count": 11,
   "id": "eefe3d11",
   "metadata": {},
   "outputs": [
    {
     "data": {
      "text/html": [
       "<div>\n",
       "<style scoped>\n",
       "    .dataframe tbody tr th:only-of-type {\n",
       "        vertical-align: middle;\n",
       "    }\n",
       "\n",
       "    .dataframe tbody tr th {\n",
       "        vertical-align: top;\n",
       "    }\n",
       "\n",
       "    .dataframe thead th {\n",
       "        text-align: right;\n",
       "    }\n",
       "</style>\n",
       "<table border=\"1\" class=\"dataframe\">\n",
       "  <thead>\n",
       "    <tr style=\"text-align: right;\">\n",
       "      <th></th>\n",
       "      <th>chembl_id</th>\n",
       "      <th>canonical_smiles</th>\n",
       "    </tr>\n",
       "  </thead>\n",
       "  <tbody>\n",
       "    <tr>\n",
       "      <th>0</th>\n",
       "      <td>CHEMBL153534</td>\n",
       "      <td>Cc1cc(-c2csc(N=C(N)N)n2)cn1C</td>\n",
       "    </tr>\n",
       "    <tr>\n",
       "      <th>1</th>\n",
       "      <td>CHEMBL440060</td>\n",
       "      <td>CC[C@H](C)[C@H](NC(=O)[C@H](CC(C)C)NC(=O)[C@@H...</td>\n",
       "    </tr>\n",
       "    <tr>\n",
       "      <th>2</th>\n",
       "      <td>CHEMBL440245</td>\n",
       "      <td>CCCC[C@@H]1NC(=O)[C@@H](NC(=O)[C@H](CC(C)C)NC(...</td>\n",
       "    </tr>\n",
       "    <tr>\n",
       "      <th>3</th>\n",
       "      <td>CHEMBL440249</td>\n",
       "      <td>CC(C)C[C@@H]1NC(=O)CNC(=O)[C@H](c2ccc(O)cc2)NC...</td>\n",
       "    </tr>\n",
       "    <tr>\n",
       "      <th>4</th>\n",
       "      <td>CHEMBL405398</td>\n",
       "      <td>Brc1cccc(Nc2ncnc3ccncc23)c1NCCN1CCOCC1</td>\n",
       "    </tr>\n",
       "  </tbody>\n",
       "</table>\n",
       "</div>"
      ],
      "text/plain": [
       "      chembl_id                                   canonical_smiles\n",
       "0  CHEMBL153534                       Cc1cc(-c2csc(N=C(N)N)n2)cn1C\n",
       "1  CHEMBL440060  CC[C@H](C)[C@H](NC(=O)[C@H](CC(C)C)NC(=O)[C@@H...\n",
       "2  CHEMBL440245  CCCC[C@@H]1NC(=O)[C@@H](NC(=O)[C@H](CC(C)C)NC(...\n",
       "3  CHEMBL440249  CC(C)C[C@@H]1NC(=O)CNC(=O)[C@H](c2ccc(O)cc2)NC...\n",
       "4  CHEMBL405398             Brc1cccc(Nc2ncnc3ccncc23)c1NCCN1CCOCC1"
      ]
     },
     "execution_count": 11,
     "metadata": {},
     "output_type": "execute_result"
    }
   ],
   "source": [
    "smiles_df = pd.read_csv(training_files_path + f\"/chembl_{chembl_version}_chemreps.txt\", sep = \"\\t\")\n",
    "smiles_df = smiles_df[[\"chembl_id\",\"canonical_smiles\"]]\n",
    "smiles_df.head()"
   ]
  },
  {
   "cell_type": "code",
   "execution_count": 12,
   "id": "81d01c59",
   "metadata": {},
   "outputs": [
    {
     "name": "stdout",
     "output_type": "stream",
     "text": [
      "2327928\n",
      "2327928\n"
     ]
    }
   ],
   "source": [
    "print(len(smiles_df))\n",
    "print(len(smiles_df.dropna()))"
   ]
  },
  {
   "cell_type": "code",
   "execution_count": 13,
   "id": "e5e7f5f1",
   "metadata": {},
   "outputs": [],
   "source": [
    "smiles_dict = pd.Series(smiles_df.canonical_smiles.values, index=smiles_df.chembl_id).to_dict()"
   ]
  },
  {
   "cell_type": "code",
   "execution_count": 14,
   "id": "b524570e",
   "metadata": {},
   "outputs": [
    {
     "data": {
      "text/plain": [
       "'CCOc1ccccc1-c1nc(O)c2nc3c(Br)cc(Br)c(C)n3c2n1'"
      ]
     },
     "execution_count": 14,
     "metadata": {},
     "output_type": "execute_result"
    }
   ],
   "source": [
    "smiles_dict[\"CHEMBL370638\"]"
   ]
  },
  {
   "cell_type": "code",
   "execution_count": 15,
   "id": "f500d837",
   "metadata": {},
   "outputs": [],
   "source": [
    "del smiles_df"
   ]
  },
  {
   "cell_type": "code",
   "execution_count": 16,
   "id": "a7d78b4a",
   "metadata": {},
   "outputs": [
    {
     "data": {
      "text/plain": [
       "'/home/hayriye/DEEPScreen2.2/'"
      ]
     },
     "execution_count": 16,
     "metadata": {},
     "output_type": "execute_result"
    }
   ],
   "source": [
    "\"/media/ubuntu/8TB/hayriye/DEEPScreen2.2/\"\n",
    "\"/home/hayriye/DEEPScreen2.2/\""
   ]
  },
  {
   "cell_type": "code",
   "execution_count": 17,
   "id": "effe853e",
   "metadata": {},
   "outputs": [
    {
     "data": {
      "text/plain": [
       "'/media/ubuntu/8TB/hayriye/DEEPScreen2.2/training_files/target_training_datasets'"
      ]
     },
     "execution_count": 17,
     "metadata": {},
     "output_type": "execute_result"
    }
   ],
   "source": [
    "mediattpath = os.path.join(media_training_files_path, \"target_training_datasets\")\n",
    "mediattpath"
   ]
  },
  {
   "cell_type": "code",
   "execution_count": 21,
   "id": "b5d87b1f",
   "metadata": {},
   "outputs": [
    {
     "data": {
      "text/plain": [
       "790"
      ]
     },
     "execution_count": 21,
     "metadata": {},
     "output_type": "execute_result"
    }
   ],
   "source": [
    "len(protein_list)"
   ]
  },
  {
   "cell_type": "code",
   "execution_count": null,
   "id": "4a72d6ba",
   "metadata": {},
   "outputs": [],
   "source": []
  },
  {
   "cell_type": "code",
   "execution_count": 24,
   "id": "2e9938ed",
   "metadata": {},
   "outputs": [
    {
     "name": "stdout",
     "output_type": "stream",
     "text": [
      "i: 0 Protein: CHEMBL4282\n",
      "train_val_test_compounds_current_len:  87782\n",
      "train_val_test_compounds_current_len:  10973\n",
      "train_val_test_compounds_current_len:  10973\n",
      "total_compounds_len:  109728\n"
     ]
    },
    {
     "name": "stderr",
     "output_type": "stream",
     "text": [
      "Creating Protein i = 0 / 790 CHEMBL4282 compounds' imgs...:   2%|▌                           | 2362/109728 [03:35<2:43:14, 10.96it/s]\n"
     ]
    },
    {
     "ename": "KeyboardInterrupt",
     "evalue": "",
     "output_type": "error",
     "traceback": [
      "\u001b[0;31m---------------------------------------------------------------------------\u001b[0m",
      "\u001b[0;31mKeyboardInterrupt\u001b[0m                         Traceback (most recent call last)",
      "\u001b[0;32m/tmp/ipykernel_1630338/4202493331.py\u001b[0m in \u001b[0;36m<module>\u001b[0;34m\u001b[0m\n\u001b[1;32m     76\u001b[0m \u001b[0;34m\u001b[0m\u001b[0m\n\u001b[1;32m     77\u001b[0m         save_comp_imgs_from_smiles(media_training_files_path, \n\u001b[0;32m---> 78\u001b[0;31m                                    protein_chembl_id, comp_name_with_angle, current_smiles, rot)\n\u001b[0m\u001b[1;32m     79\u001b[0m         \u001b[0msaved_compound_count\u001b[0m \u001b[0;34m+=\u001b[0m \u001b[0;36m1\u001b[0m\u001b[0;34m\u001b[0m\u001b[0;34m\u001b[0m\u001b[0m\n\u001b[1;32m     80\u001b[0m \u001b[0;34m\u001b[0m\u001b[0m\n",
      "\u001b[0;32m/tmp/ipykernel_1630338/4036497580.py\u001b[0m in \u001b[0;36msave_comp_imgs_from_smiles\u001b[0;34m(training_files_path, tar_id, comp_id, smiles, rot, SIZE, rot_size)\u001b[0m\n\u001b[1;32m     14\u001b[0m \u001b[0;34m\u001b[0m\u001b[0m\n\u001b[1;32m     15\u001b[0m     \u001b[0mDraw\u001b[0m\u001b[0;34m.\u001b[0m\u001b[0mMolToFile\u001b[0m\u001b[0;34m(\u001b[0m\u001b[0mmol\u001b[0m\u001b[0;34m,\u001b[0m \u001b[0mpath_to_give_svg\u001b[0m \u001b[0;34m,\u001b[0m \u001b[0msize\u001b[0m \u001b[0;34m=\u001b[0m \u001b[0;34m(\u001b[0m\u001b[0mSIZE\u001b[0m\u001b[0;34m,\u001b[0m \u001b[0mSIZE\u001b[0m \u001b[0;34m)\u001b[0m\u001b[0;34m)\u001b[0m\u001b[0;34m\u001b[0m\u001b[0;34m\u001b[0m\u001b[0m\n\u001b[0;32m---> 16\u001b[0;31m     \u001b[0mcairosvg\u001b[0m\u001b[0;34m.\u001b[0m\u001b[0msvg2png\u001b[0m\u001b[0;34m(\u001b[0m\u001b[0murl\u001b[0m \u001b[0;34m=\u001b[0m \u001b[0mpath_to_give_svg\u001b[0m\u001b[0;34m,\u001b[0m \u001b[0mwrite_to\u001b[0m \u001b[0;34m=\u001b[0m \u001b[0mpath_to_give_png\u001b[0m\u001b[0;34m)\u001b[0m\u001b[0;34m\u001b[0m\u001b[0;34m\u001b[0m\u001b[0m\n\u001b[0m\u001b[1;32m     17\u001b[0m     \u001b[0msubprocess\u001b[0m\u001b[0;34m.\u001b[0m\u001b[0mcall\u001b[0m\u001b[0;34m(\u001b[0m\u001b[0;34m[\u001b[0m\u001b[0;34m\"rm\"\u001b[0m\u001b[0;34m,\u001b[0m \u001b[0mpath_to_give_svg\u001b[0m\u001b[0;34m]\u001b[0m\u001b[0;34m)\u001b[0m\u001b[0;34m\u001b[0m\u001b[0;34m\u001b[0m\u001b[0m\n\u001b[1;32m     18\u001b[0m \u001b[0;34m\u001b[0m\u001b[0m\n",
      "\u001b[0;32m~/anaconda3/envs/RDKit/lib/python3.7/site-packages/cairosvg/__init__.py\u001b[0m in \u001b[0;36msvg2png\u001b[0;34m(bytestring, file_obj, url, dpi, parent_width, parent_height, scale, unsafe, background_color, negate_colors, invert_images, write_to, output_width, output_height)\u001b[0m\n\u001b[1;32m     58\u001b[0m         \u001b[0mbackground_color\u001b[0m\u001b[0;34m=\u001b[0m\u001b[0mbackground_color\u001b[0m\u001b[0;34m,\u001b[0m \u001b[0mnegate_colors\u001b[0m\u001b[0;34m=\u001b[0m\u001b[0mnegate_colors\u001b[0m\u001b[0;34m,\u001b[0m\u001b[0;34m\u001b[0m\u001b[0;34m\u001b[0m\u001b[0m\n\u001b[1;32m     59\u001b[0m         \u001b[0minvert_images\u001b[0m\u001b[0;34m=\u001b[0m\u001b[0minvert_images\u001b[0m\u001b[0;34m,\u001b[0m \u001b[0munsafe\u001b[0m\u001b[0;34m=\u001b[0m\u001b[0munsafe\u001b[0m\u001b[0;34m,\u001b[0m \u001b[0mwrite_to\u001b[0m\u001b[0;34m=\u001b[0m\u001b[0mwrite_to\u001b[0m\u001b[0;34m,\u001b[0m\u001b[0;34m\u001b[0m\u001b[0;34m\u001b[0m\u001b[0m\n\u001b[0;32m---> 60\u001b[0;31m         output_width=output_width, output_height=output_height)\n\u001b[0m\u001b[1;32m     61\u001b[0m \u001b[0;34m\u001b[0m\u001b[0m\n\u001b[1;32m     62\u001b[0m \u001b[0;34m\u001b[0m\u001b[0m\n",
      "\u001b[0;32m~/anaconda3/envs/RDKit/lib/python3.7/site-packages/cairosvg/surface.py\u001b[0m in \u001b[0;36mconvert\u001b[0;34m(cls, bytestring, file_obj, url, dpi, parent_width, parent_height, scale, unsafe, background_color, negate_colors, invert_images, write_to, output_width, output_height, **kwargs)\u001b[0m\n\u001b[1;32m    133\u001b[0m             \u001b[0moutput_width\u001b[0m\u001b[0;34m,\u001b[0m \u001b[0moutput_height\u001b[0m\u001b[0;34m,\u001b[0m \u001b[0mbackground_color\u001b[0m\u001b[0;34m,\u001b[0m\u001b[0;34m\u001b[0m\u001b[0;34m\u001b[0m\u001b[0m\n\u001b[1;32m    134\u001b[0m             \u001b[0mmap_rgba\u001b[0m\u001b[0;34m=\u001b[0m\u001b[0mnegate_color\u001b[0m \u001b[0;32mif\u001b[0m \u001b[0mnegate_colors\u001b[0m \u001b[0;32melse\u001b[0m \u001b[0;32mNone\u001b[0m\u001b[0;34m,\u001b[0m\u001b[0;34m\u001b[0m\u001b[0;34m\u001b[0m\u001b[0m\n\u001b[0;32m--> 135\u001b[0;31m             map_image=invert_image if invert_images else None)\n\u001b[0m\u001b[1;32m    136\u001b[0m         \u001b[0minstance\u001b[0m\u001b[0;34m.\u001b[0m\u001b[0mfinish\u001b[0m\u001b[0;34m(\u001b[0m\u001b[0;34m)\u001b[0m\u001b[0;34m\u001b[0m\u001b[0;34m\u001b[0m\u001b[0m\n\u001b[1;32m    137\u001b[0m         \u001b[0;32mif\u001b[0m \u001b[0mwrite_to\u001b[0m \u001b[0;32mis\u001b[0m \u001b[0;32mNone\u001b[0m\u001b[0;34m:\u001b[0m\u001b[0;34m\u001b[0m\u001b[0;34m\u001b[0m\u001b[0m\n",
      "\u001b[0;32m~/anaconda3/envs/RDKit/lib/python3.7/site-packages/cairosvg/surface.py\u001b[0m in \u001b[0;36m__init__\u001b[0;34m(self, tree, output, dpi, parent_surface, parent_width, parent_height, scale, output_width, output_height, background_color, map_rgba, map_image)\u001b[0m\n\u001b[1;32m    221\u001b[0m         \u001b[0mself\u001b[0m\u001b[0;34m.\u001b[0m\u001b[0mmap_rgba\u001b[0m \u001b[0;34m=\u001b[0m \u001b[0mmap_rgba\u001b[0m\u001b[0;34m\u001b[0m\u001b[0;34m\u001b[0m\u001b[0m\n\u001b[1;32m    222\u001b[0m         \u001b[0mself\u001b[0m\u001b[0;34m.\u001b[0m\u001b[0mmap_image\u001b[0m \u001b[0;34m=\u001b[0m \u001b[0mmap_image\u001b[0m\u001b[0;34m\u001b[0m\u001b[0;34m\u001b[0m\u001b[0m\n\u001b[0;32m--> 223\u001b[0;31m         \u001b[0mself\u001b[0m\u001b[0;34m.\u001b[0m\u001b[0mdraw\u001b[0m\u001b[0;34m(\u001b[0m\u001b[0mtree\u001b[0m\u001b[0;34m)\u001b[0m\u001b[0;34m\u001b[0m\u001b[0;34m\u001b[0m\u001b[0m\n\u001b[0m\u001b[1;32m    224\u001b[0m \u001b[0;34m\u001b[0m\u001b[0m\n\u001b[1;32m    225\u001b[0m     \u001b[0;34m@\u001b[0m\u001b[0mproperty\u001b[0m\u001b[0;34m\u001b[0m\u001b[0;34m\u001b[0m\u001b[0m\n",
      "\u001b[0;32m~/anaconda3/envs/RDKit/lib/python3.7/site-packages/cairosvg/surface.py\u001b[0m in \u001b[0;36mdraw\u001b[0;34m(self, node)\u001b[0m\n\u001b[1;32m    467\u001b[0m         \u001b[0;32mif\u001b[0m \u001b[0mdisplay\u001b[0m \u001b[0;32mand\u001b[0m \u001b[0mnode\u001b[0m\u001b[0;34m.\u001b[0m\u001b[0mtag\u001b[0m \u001b[0;32mnot\u001b[0m \u001b[0;32min\u001b[0m \u001b[0mINVISIBLE_TAGS\u001b[0m\u001b[0;34m:\u001b[0m\u001b[0;34m\u001b[0m\u001b[0;34m\u001b[0m\u001b[0m\n\u001b[1;32m    468\u001b[0m             \u001b[0;32mfor\u001b[0m \u001b[0mchild\u001b[0m \u001b[0;32min\u001b[0m \u001b[0mnode\u001b[0m\u001b[0;34m.\u001b[0m\u001b[0mchildren\u001b[0m\u001b[0;34m:\u001b[0m\u001b[0;34m\u001b[0m\u001b[0;34m\u001b[0m\u001b[0m\n\u001b[0;32m--> 469\u001b[0;31m                 \u001b[0mself\u001b[0m\u001b[0;34m.\u001b[0m\u001b[0mdraw\u001b[0m\u001b[0;34m(\u001b[0m\u001b[0mchild\u001b[0m\u001b[0;34m)\u001b[0m\u001b[0;34m\u001b[0m\u001b[0;34m\u001b[0m\u001b[0m\n\u001b[0m\u001b[1;32m    470\u001b[0m \u001b[0;34m\u001b[0m\u001b[0m\n\u001b[1;32m    471\u001b[0m         \u001b[0;31m# Apply filter, mask and opacity\u001b[0m\u001b[0;34m\u001b[0m\u001b[0;34m\u001b[0m\u001b[0;34m\u001b[0m\u001b[0m\n",
      "\u001b[0;32m~/anaconda3/envs/RDKit/lib/python3.7/site-packages/cairosvg/surface.py\u001b[0m in \u001b[0;36mdraw\u001b[0;34m(self, node)\u001b[0m\n\u001b[1;32m    399\u001b[0m         \u001b[0;32mif\u001b[0m \u001b[0mnode\u001b[0m\u001b[0;34m.\u001b[0m\u001b[0mtag\u001b[0m \u001b[0;32min\u001b[0m \u001b[0mTAGS\u001b[0m\u001b[0;34m:\u001b[0m\u001b[0;34m\u001b[0m\u001b[0;34m\u001b[0m\u001b[0m\n\u001b[1;32m    400\u001b[0m             \u001b[0;32mtry\u001b[0m\u001b[0;34m:\u001b[0m\u001b[0;34m\u001b[0m\u001b[0;34m\u001b[0m\u001b[0m\n\u001b[0;32m--> 401\u001b[0;31m                 \u001b[0mTAGS\u001b[0m\u001b[0;34m[\u001b[0m\u001b[0mnode\u001b[0m\u001b[0;34m.\u001b[0m\u001b[0mtag\u001b[0m\u001b[0;34m]\u001b[0m\u001b[0;34m(\u001b[0m\u001b[0mself\u001b[0m\u001b[0;34m,\u001b[0m \u001b[0mnode\u001b[0m\u001b[0;34m)\u001b[0m\u001b[0;34m\u001b[0m\u001b[0;34m\u001b[0m\u001b[0m\n\u001b[0m\u001b[1;32m    402\u001b[0m             \u001b[0;32mexcept\u001b[0m \u001b[0mPointError\u001b[0m\u001b[0;34m:\u001b[0m\u001b[0;34m\u001b[0m\u001b[0;34m\u001b[0m\u001b[0m\n\u001b[1;32m    403\u001b[0m                 \u001b[0;31m# Error in point parsing, do nothing\u001b[0m\u001b[0;34m\u001b[0m\u001b[0;34m\u001b[0m\u001b[0;34m\u001b[0m\u001b[0m\n",
      "\u001b[0;32m~/anaconda3/envs/RDKit/lib/python3.7/site-packages/cairosvg/path.py\u001b[0m in \u001b[0;36mpath\u001b[0;34m(surface, node)\u001b[0m\n\u001b[1;32m    341\u001b[0m             \u001b[0;31m# Quadratic curve\u001b[0m\u001b[0;34m\u001b[0m\u001b[0;34m\u001b[0m\u001b[0;34m\u001b[0m\u001b[0m\n\u001b[1;32m    342\u001b[0m             \u001b[0mx1\u001b[0m\u001b[0;34m,\u001b[0m \u001b[0my1\u001b[0m \u001b[0;34m=\u001b[0m \u001b[0mcurrent_point\u001b[0m\u001b[0;34m\u001b[0m\u001b[0;34m\u001b[0m\u001b[0m\n\u001b[0;32m--> 343\u001b[0;31m             \u001b[0mx2\u001b[0m\u001b[0;34m,\u001b[0m \u001b[0my2\u001b[0m\u001b[0;34m,\u001b[0m \u001b[0mstring\u001b[0m \u001b[0;34m=\u001b[0m \u001b[0mpoint\u001b[0m\u001b[0;34m(\u001b[0m\u001b[0msurface\u001b[0m\u001b[0;34m,\u001b[0m \u001b[0mstring\u001b[0m\u001b[0;34m)\u001b[0m\u001b[0;34m\u001b[0m\u001b[0;34m\u001b[0m\u001b[0m\n\u001b[0m\u001b[1;32m    344\u001b[0m             \u001b[0mx3\u001b[0m\u001b[0;34m,\u001b[0m \u001b[0my3\u001b[0m\u001b[0;34m,\u001b[0m \u001b[0mstring\u001b[0m \u001b[0;34m=\u001b[0m \u001b[0mpoint\u001b[0m\u001b[0;34m(\u001b[0m\u001b[0msurface\u001b[0m\u001b[0;34m,\u001b[0m \u001b[0mstring\u001b[0m\u001b[0;34m)\u001b[0m\u001b[0;34m\u001b[0m\u001b[0;34m\u001b[0m\u001b[0m\n\u001b[1;32m    345\u001b[0m             xq1, yq1, xq2, yq2, xq3, yq3 = quadratic_points(\n",
      "\u001b[0;32m~/anaconda3/envs/RDKit/lib/python3.7/site-packages/cairosvg/helpers.py\u001b[0m in \u001b[0;36mpoint\u001b[0;34m(surface, string)\u001b[0m\n\u001b[1;32m     88\u001b[0m         \u001b[0mx\u001b[0m\u001b[0;34m,\u001b[0m \u001b[0my\u001b[0m \u001b[0;34m=\u001b[0m \u001b[0mmatch\u001b[0m\u001b[0;34m.\u001b[0m\u001b[0mgroup\u001b[0m\u001b[0;34m(\u001b[0m\u001b[0;36m1\u001b[0m\u001b[0;34m,\u001b[0m \u001b[0;36m2\u001b[0m\u001b[0;34m)\u001b[0m\u001b[0;34m\u001b[0m\u001b[0;34m\u001b[0m\u001b[0m\n\u001b[1;32m     89\u001b[0m         \u001b[0mstring\u001b[0m \u001b[0;34m=\u001b[0m \u001b[0mstring\u001b[0m\u001b[0;34m[\u001b[0m\u001b[0mmatch\u001b[0m\u001b[0;34m.\u001b[0m\u001b[0mend\u001b[0m\u001b[0;34m(\u001b[0m\u001b[0;34m)\u001b[0m\u001b[0;34m:\u001b[0m\u001b[0;34m]\u001b[0m\u001b[0;34m\u001b[0m\u001b[0;34m\u001b[0m\u001b[0m\n\u001b[0;32m---> 90\u001b[0;31m         \u001b[0;32mreturn\u001b[0m \u001b[0;34m(\u001b[0m\u001b[0msize\u001b[0m\u001b[0;34m(\u001b[0m\u001b[0msurface\u001b[0m\u001b[0;34m,\u001b[0m \u001b[0mx\u001b[0m\u001b[0;34m,\u001b[0m \u001b[0;34m'x'\u001b[0m\u001b[0;34m)\u001b[0m\u001b[0;34m,\u001b[0m \u001b[0msize\u001b[0m\u001b[0;34m(\u001b[0m\u001b[0msurface\u001b[0m\u001b[0;34m,\u001b[0m \u001b[0my\u001b[0m\u001b[0;34m,\u001b[0m \u001b[0;34m'y'\u001b[0m\u001b[0;34m)\u001b[0m\u001b[0;34m,\u001b[0m \u001b[0mstring\u001b[0m\u001b[0;34m)\u001b[0m\u001b[0;34m\u001b[0m\u001b[0;34m\u001b[0m\u001b[0m\n\u001b[0m\u001b[1;32m     91\u001b[0m     \u001b[0;32melse\u001b[0m\u001b[0;34m:\u001b[0m\u001b[0;34m\u001b[0m\u001b[0;34m\u001b[0m\u001b[0m\n\u001b[1;32m     92\u001b[0m         \u001b[0;32mraise\u001b[0m \u001b[0mPointError\u001b[0m\u001b[0;34m\u001b[0m\u001b[0;34m\u001b[0m\u001b[0m\n",
      "\u001b[0;32m~/anaconda3/envs/RDKit/lib/python3.7/site-packages/cairosvg/helpers.py\u001b[0m in \u001b[0;36msize\u001b[0;34m(surface, string, reference)\u001b[0m\n\u001b[1;32m    353\u001b[0m \u001b[0;34m\u001b[0m\u001b[0m\n\u001b[1;32m    354\u001b[0m     \u001b[0;32mtry\u001b[0m\u001b[0;34m:\u001b[0m\u001b[0;34m\u001b[0m\u001b[0;34m\u001b[0m\u001b[0m\n\u001b[0;32m--> 355\u001b[0;31m         \u001b[0;32mreturn\u001b[0m \u001b[0mfloat\u001b[0m\u001b[0;34m(\u001b[0m\u001b[0mstring\u001b[0m\u001b[0;34m)\u001b[0m\u001b[0;34m\u001b[0m\u001b[0;34m\u001b[0m\u001b[0m\n\u001b[0m\u001b[1;32m    356\u001b[0m     \u001b[0;32mexcept\u001b[0m \u001b[0mValueError\u001b[0m\u001b[0;34m:\u001b[0m\u001b[0;34m\u001b[0m\u001b[0;34m\u001b[0m\u001b[0m\n\u001b[1;32m    357\u001b[0m         \u001b[0;31m# Not a float, try something else\u001b[0m\u001b[0;34m\u001b[0m\u001b[0;34m\u001b[0m\u001b[0;34m\u001b[0m\u001b[0m\n",
      "\u001b[0;31mKeyboardInterrupt\u001b[0m: "
     ]
    }
   ],
   "source": [
    "ttpath = os.path.join(training_files_path, \"target_training_datasets\")\n",
    "mediattpath = os.path.join(media_training_files_path, \"target_training_datasets\")\n",
    "\n",
    "\n",
    "angle_list = [str(angle) for angle in range(10,360,10)]\n",
    "creating_imgs_out_file = open(os.path.join(media_project_file_path, \"result_files/bash_outputs\", \n",
    "                                           \"3creating_imgs.out\"), \"w\")\n",
    "\n",
    "\n",
    "for ip, protein_chembl_id in tc.tenumerate(protein_list, tqdm_class=tqdm.auto.tqdm, \n",
    "                                        position=0, leave=True, ascii=True, ncols=150,\n",
    "                                        desc = \"Main loop for 790 proteins' train_val_test_compounds' lists...\"):\n",
    "#for ip, protein_chembl_id in enumerate(protein_list):\n",
    "    \n",
    "    print(\"i: {} Protein: {}\".format(ip, protein_chembl_id))\n",
    "    \n",
    "    \n",
    "    \"\"\"\n",
    "    command = subprocess.run(\"df -h --output=avail /home | tail -n 1\", shell=True, check=True, \n",
    "                             executable='/bin/bash', capture_output = True)\n",
    "    disk_space = int(command.stdout.decode().strip().split(\"G\")[0])\n",
    "    if disk_space < 50:\n",
    "        sys.exit(\"Disk space in /home directory is less than 50G!\")\n",
    "    \"\"\"\n",
    "    \n",
    "    f = open(os.path.join(mediattpath, protein_chembl_id, \"train_val_test_dict.json\"), \"r\")\n",
    "    data = json.load(f)\n",
    "    f.close()\n",
    "    \n",
    "    current_list_of_compounds = []\n",
    "    total_len = 0\n",
    "    for tuple_list in data.values():\n",
    "\n",
    "        current_len = len(tuple_list)\n",
    "        total_len += current_len\n",
    "        print(\"train_val_test_compounds_current_len: \", current_len)\n",
    "\n",
    "        for current_tuple in tuple_list:\n",
    "            current_compound = current_tuple[0]\n",
    "            current_list_of_compounds.append(current_compound)\n",
    "\n",
    "    print(\"total_compounds_len: \", total_len)\n",
    "    \n",
    "    current_list_of_compounds_len = len(current_list_of_compounds)\n",
    "    error_count = 0\n",
    "    \n",
    "    saved_compound_count=0\n",
    "    for i, comp_name_with_angle in tc.tenumerate(current_list_of_compounds, tqdm_class=tqdm.auto.tqdm,\n",
    "                position=1, leave=False, ascii=True, ncols=150,\n",
    "                desc = f\"Creating Protein i = {ip} / {len(protein_list)} {protein_chembl_id} compounds' imgs...\"):\n",
    "    #for i, comp_name_with_angle in enumerate(current_list_of_compounds):\n",
    "        \n",
    "        comp_name = comp_name_with_angle\n",
    "        rot = 0\n",
    "        \n",
    "        # 35/36 compounds are like CHEMBL3699688_270, 1/36 are like CHEMBL3699688\n",
    "        if \"_\" in comp_name_with_angle:\n",
    "            comp_name = comp_name_with_angle.split(\"_\")[0]\n",
    "            rot = int(comp_name_with_angle.split(\"_\")[1])\n",
    "        \n",
    "        \n",
    "        try:\n",
    "            current_smiles = smiles_dict[comp_name]\n",
    "        except:\n",
    "            \n",
    "            error_count += 1\n",
    "            \n",
    "            print(\"cur_comp/err_count/all: {}/{}/{}. Dictionary KeyError happened. The smiles value cannot be found for i:{}/target:{}, comp:{}\".format(\n",
    "                    i, error_count, current_list_of_compounds_len, ip, protein_chembl_id, comp_name_with_angle),\n",
    "                 file = creating_imgs_out_file)\n",
    "            \n",
    "            continue\n",
    "        \n",
    "        save_comp_imgs_from_smiles(media_training_files_path, \n",
    "                                   protein_chembl_id, comp_name_with_angle, current_smiles, rot)\n",
    "        saved_compound_count += 1\n",
    "        \n",
    "        if (i % 100000) == 0:\n",
    "            creating_imgs_out_file.write(\n",
    "                \"cur_comp/err_count/all: {}/{}/{} for i:{}/protein:{}, compound:{}, smiles:{}\\n\".format(\n",
    "                    i, error_count, current_list_of_compounds_len, ip, protein_chembl_id, comp_name_with_angle, current_smiles))\n",
    "        \n",
    "    print(\"Saved compound count for i:{}/{}: {}/{}\".format(ip, protein_chembl_id, saved_compound_count, total_len),\n",
    "          file=creating_imgs_out_file) \n",
    "    \n",
    "creating_imgs_out_file.close()"
   ]
  },
  {
   "cell_type": "code",
   "execution_count": null,
   "id": "eddd6aac",
   "metadata": {},
   "outputs": [],
   "source": []
  },
  {
   "cell_type": "code",
   "execution_count": null,
   "id": "cc079c81",
   "metadata": {},
   "outputs": [],
   "source": []
  },
  {
   "cell_type": "code",
   "execution_count": null,
   "id": "2ece7c66",
   "metadata": {},
   "outputs": [],
   "source": []
  },
  {
   "cell_type": "code",
   "execution_count": null,
   "id": "df68e7f8",
   "metadata": {},
   "outputs": [],
   "source": []
  },
  {
   "cell_type": "code",
   "execution_count": 16,
   "id": "9808a07c",
   "metadata": {},
   "outputs": [
    {
     "data": {
      "text/plain": [
       "77544"
      ]
     },
     "execution_count": 16,
     "metadata": {},
     "output_type": "execute_result"
    }
   ],
   "source": [
    "len(current_list_of_compounds)"
   ]
  },
  {
   "cell_type": "code",
   "execution_count": 17,
   "id": "463b5903",
   "metadata": {},
   "outputs": [
    {
     "data": {
      "text/plain": [
       "['CHEMBL1242112_150',\n",
       " 'CHEMBL3685147_180',\n",
       " 'CHEMBL2178274_140',\n",
       " 'CHEMBL3685049_260',\n",
       " 'CHEMBL3908795_270']"
      ]
     },
     "execution_count": 17,
     "metadata": {},
     "output_type": "execute_result"
    }
   ],
   "source": [
    "current_list_of_compounds[:5]"
   ]
  },
  {
   "cell_type": "code",
   "execution_count": null,
   "id": "24e4f5b3",
   "metadata": {},
   "outputs": [],
   "source": []
  }
 ],
 "metadata": {
  "kernelspec": {
   "display_name": "Python 3 (ipykernel)",
   "language": "python",
   "name": "python3"
  },
  "language_info": {
   "codemirror_mode": {
    "name": "ipython",
    "version": 3
   },
   "file_extension": ".py",
   "mimetype": "text/x-python",
   "name": "python",
   "nbconvert_exporter": "python",
   "pygments_lexer": "ipython3",
   "version": "3.7.13"
  }
 },
 "nbformat": 4,
 "nbformat_minor": 5
}
