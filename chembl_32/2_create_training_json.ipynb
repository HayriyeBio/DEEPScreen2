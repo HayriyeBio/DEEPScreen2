{
 "cells": [
  {
   "cell_type": "code",
   "execution_count": 29,
   "id": "3c783e22",
   "metadata": {},
   "outputs": [],
   "source": [
    "import json\n",
    "import os\n",
    "import pandas as pd\n",
    "import numpy as np\n",
    "\n",
    "from tqdm import contrib as tc\n",
    "\n",
    "import random\n",
    "from sklearn.model_selection import train_test_split"
   ]
  },
  {
   "cell_type": "code",
   "execution_count": 30,
   "id": "42a6d376",
   "metadata": {},
   "outputs": [
    {
     "data": {
      "text/plain": [
       "'/home/hayriye/DEEPScreen2.2/training_files'"
      ]
     },
     "execution_count": 30,
     "metadata": {},
     "output_type": "execute_result"
    }
   ],
   "source": [
    "code_path = os.getcwd()\n",
    "project_file_path = code_path.split(\"chembl\")[0]\n",
    "training_files_path = os.path.join(project_file_path, \"training_files\")\n",
    "training_files_path"
   ]
  },
  {
   "cell_type": "code",
   "execution_count": 31,
   "id": "29753d2e",
   "metadata": {},
   "outputs": [],
   "source": [
    "preprocessed_tsv_file = \"/chembl32_preprocessed_filtered_act_inact_comps_Q60.tsv\""
   ]
  },
  {
   "cell_type": "code",
   "execution_count": 32,
   "id": "195c8159",
   "metadata": {},
   "outputs": [
    {
     "name": "stdout",
     "output_type": "stream",
     "text": [
      "1580\n"
     ]
    },
    {
     "data": {
      "text/html": [
       "<div>\n",
       "<style scoped>\n",
       "    .dataframe tbody tr th:only-of-type {\n",
       "        vertical-align: middle;\n",
       "    }\n",
       "\n",
       "    .dataframe tbody tr th {\n",
       "        vertical-align: top;\n",
       "    }\n",
       "\n",
       "    .dataframe thead th {\n",
       "        text-align: right;\n",
       "    }\n",
       "</style>\n",
       "<table border=\"1\" class=\"dataframe\">\n",
       "  <thead>\n",
       "    <tr style=\"text-align: right;\">\n",
       "      <th></th>\n",
       "      <th>0</th>\n",
       "      <th>1</th>\n",
       "    </tr>\n",
       "  </thead>\n",
       "  <tbody>\n",
       "    <tr>\n",
       "      <th>0</th>\n",
       "      <td>CHEMBL3066_act</td>\n",
       "      <td>CHEMBL210514,CHEMBL22055,CHEMBL11149,CHEMBL273...</td>\n",
       "    </tr>\n",
       "    <tr>\n",
       "      <th>1</th>\n",
       "      <td>CHEMBL3066_inact</td>\n",
       "      <td>CHEMBL2370208,CHEMBL157101,CHEMBL487627,CHEMBL...</td>\n",
       "    </tr>\n",
       "    <tr>\n",
       "      <th>2</th>\n",
       "      <td>CHEMBL261_act</td>\n",
       "      <td>CHEMBL6919,CHEMBL269122,CHEMBL35118,CHEMBL1418...</td>\n",
       "    </tr>\n",
       "    <tr>\n",
       "      <th>3</th>\n",
       "      <td>CHEMBL261_inact</td>\n",
       "      <td>CHEMBL7204,CHEMBL6705,CHEMBL21,CHEMBL6852,CHEM...</td>\n",
       "    </tr>\n",
       "    <tr>\n",
       "      <th>4</th>\n",
       "      <td>CHEMBL281_act</td>\n",
       "      <td>CHEMBL35118,CHEMBL18,CHEMBL19,CHEMBL71611,CHEM...</td>\n",
       "    </tr>\n",
       "  </tbody>\n",
       "</table>\n",
       "</div>"
      ],
      "text/plain": [
       "                  0                                                  1\n",
       "0    CHEMBL3066_act  CHEMBL210514,CHEMBL22055,CHEMBL11149,CHEMBL273...\n",
       "1  CHEMBL3066_inact  CHEMBL2370208,CHEMBL157101,CHEMBL487627,CHEMBL...\n",
       "2     CHEMBL261_act  CHEMBL6919,CHEMBL269122,CHEMBL35118,CHEMBL1418...\n",
       "3   CHEMBL261_inact  CHEMBL7204,CHEMBL6705,CHEMBL21,CHEMBL6852,CHEM...\n",
       "4     CHEMBL281_act  CHEMBL35118,CHEMBL18,CHEMBL19,CHEMBL71611,CHEM..."
      ]
     },
     "execution_count": 32,
     "metadata": {},
     "output_type": "execute_result"
    }
   ],
   "source": [
    "act_inact_df = pd.read_csv(training_files_path + preprocessed_tsv_file , sep = \"\\t\", header=None)\n",
    "print(len(act_inact_df))\n",
    "act_inact_df.head()"
   ]
  },
  {
   "cell_type": "code",
   "execution_count": 33,
   "id": "ec3c56c9",
   "metadata": {
    "scrolled": true
   },
   "outputs": [
    {
     "data": {
      "text/plain": [
       "790"
      ]
     },
     "execution_count": 33,
     "metadata": {},
     "output_type": "execute_result"
    }
   ],
   "source": [
    "protein_list = pd.read_csv(training_files_path + \"/chembl32_training_target_list.txt\", header=None)\n",
    "protein_list = [line[0] for line in protein_list.values.tolist()]\n",
    "len(protein_list)"
   ]
  },
  {
   "cell_type": "code",
   "execution_count": null,
   "id": "dc51842b",
   "metadata": {},
   "outputs": [],
   "source": []
  },
  {
   "cell_type": "code",
   "execution_count": 34,
   "id": "09c702b4",
   "metadata": {},
   "outputs": [
    {
     "data": {
      "text/plain": [
       "1218"
      ]
     },
     "execution_count": 34,
     "metadata": {},
     "output_type": "execute_result"
    }
   ],
   "source": [
    "active_list=act_inact_df[act_inact_df[0] == \"CHEMBL4282\"+\"_act\"].loc[:,1].values[0].split(\",\")\n",
    "len(active_list)"
   ]
  },
  {
   "cell_type": "code",
   "execution_count": 35,
   "id": "4b2abc1a",
   "metadata": {},
   "outputs": [
    {
     "data": {
      "text/plain": [
       "1830"
      ]
     },
     "execution_count": 35,
     "metadata": {},
     "output_type": "execute_result"
    }
   ],
   "source": [
    "inactive_list=act_inact_df[act_inact_df[0] == \"CHEMBL4282\"+\"_inact\"].loc[:,1].values[0].split(\",\")\n",
    "len(inactive_list)"
   ]
  },
  {
   "cell_type": "code",
   "execution_count": null,
   "id": "e5f4f8c9",
   "metadata": {},
   "outputs": [],
   "source": []
  },
  {
   "cell_type": "code",
   "execution_count": 36,
   "id": "56d25e6f",
   "metadata": {},
   "outputs": [
    {
     "name": "stderr",
     "output_type": "stream",
     "text": [
      "100%|█████████████████████████████████████████████████████████████████████████████████████| 790/790 [01:45<00:00,  7.50it/s]\n"
     ]
    }
   ],
   "source": [
    "ttpath = os.path.join(training_files_path, \"target_training_datasets\")\n",
    "mediattpath = os.path.join(\"/media/ubuntu/8TB/hayriye/DEEPScreen2.2\", \"training_files\", \"target_training_datasets\")\n",
    "\n",
    "angle_list = [angle for angle in range(10,360,10)]\n",
    "\n",
    "\n",
    "for i, protein in tc.tenumerate(protein_list):\n",
    "#for i,protein in enumerate(protein_list):\n",
    "    \n",
    "    #print(i,protein)\n",
    "    \n",
    "    active_string = act_inact_df[act_inact_df[0] == protein+\"_act\"].loc[:,1].values[0]\n",
    "    inactive_string = act_inact_df[act_inact_df[0] == protein+\"_inact\"].loc[:,1].values[0]\n",
    "    \n",
    "    active_list = active_string.split(\",\")\n",
    "    inactive_list = inactive_string.split(\",\")\n",
    "    \n",
    "    \n",
    "    active_tuples = [[e,1] for e in active_list]\n",
    "    active_rotated_tuples = []\n",
    "    for current_tuple in active_tuples:\n",
    "        current_molecule = current_tuple[0]\n",
    "        current_tag = current_tuple[1]\n",
    "        for angle in angle_list:\n",
    "            active_rotated_tuples.append([current_molecule+\"_\"+str(angle), current_tag])\n",
    "    active_tuples = active_tuples + active_rotated_tuples\n",
    "    \n",
    "    \n",
    "    inactive_tuples = [[e,0] for e in inactive_list]\n",
    "    inactive_rotated_tuples = []\n",
    "    for current_tuple in inactive_tuples:\n",
    "        current_molecule = current_tuple[0]\n",
    "        current_tag = current_tuple[1]\n",
    "        for angle in angle_list:\n",
    "            inactive_rotated_tuples.append([current_molecule+\"_\"+str(angle), current_tag])\n",
    "    inactive_tuples = inactive_tuples + inactive_rotated_tuples\n",
    "    \n",
    "    \n",
    "    active_tuples_train, active_tuples_test_val = train_test_split(active_tuples, test_size=0.20, random_state=42)\n",
    "    active_tuples_test, active_tuples_val = train_test_split(active_tuples_test_val, test_size=0.50, random_state=42)\n",
    "    \n",
    "    inactive_tuples_train, inactive_tuples_test_val = train_test_split(inactive_tuples, test_size=0.20, random_state=42)\n",
    "    inactive_tuples_test, inactive_tuples_val = train_test_split(inactive_tuples_test_val, test_size=0.50, random_state=42)\n",
    "    \n",
    "    tuples_train = active_tuples_train + inactive_tuples_train\n",
    "    tuples_test = active_tuples_test + inactive_tuples_test\n",
    "    tuples_val = active_tuples_val + inactive_tuples_val\n",
    "    \n",
    "    random.shuffle(tuples_train)\n",
    "    random.shuffle(tuples_test)\n",
    "    random.shuffle(tuples_val)\n",
    "    \n",
    "    json_dict = {\"training\": tuples_train,\n",
    "                \"test\": tuples_test,\n",
    "                \"validation\": tuples_val}\n",
    "    \n",
    "    # Serializing json   \n",
    "    json_object = json.dumps(json_dict)  \n",
    "    #print(json_object)\n",
    "    \n",
    "    \n",
    "    protein_path = os.path.join(ttpath, protein)\n",
    "    media_protein_path = os.path.join(mediattpath, protein)\n",
    "    #print(protein_path)\n",
    "    \n",
    "    imgs_path = os.path.join(ttpath, protein, \"imgs\")\n",
    "    media_imgs_path = os.path.join(mediattpath, protein, \"imgs\")\n",
    "    #print(new_path)\n",
    "    \n",
    "    \n",
    "    try: \n",
    "        os.makedirs(imgs_path)\n",
    "    except FileExistsError as error: \n",
    "        pass\n",
    "    \n",
    "    try: \n",
    "        os.makedirs(media_imgs_path)\n",
    "    except FileExistsError as error: \n",
    "        pass\n",
    "    \n",
    "    output_file = open(\"{}/train_val_test_dict.json\".format(protein_path), \"w\")\n",
    "    output_file.write(json_object)\n",
    "    output_file.close()\n",
    "    \n",
    "    output_file = open(\"{}/train_val_test_dict.json\".format(media_protein_path), \"w\")\n",
    "    output_file.write(json_object)\n",
    "    output_file.close()"
   ]
  },
  {
   "cell_type": "code",
   "execution_count": null,
   "id": "37a21140",
   "metadata": {},
   "outputs": [],
   "source": []
  },
  {
   "cell_type": "code",
   "execution_count": null,
   "id": "a7d4f365",
   "metadata": {},
   "outputs": [],
   "source": []
  },
  {
   "cell_type": "code",
   "execution_count": null,
   "id": "b8337b71",
   "metadata": {},
   "outputs": [],
   "source": []
  },
  {
   "cell_type": "code",
   "execution_count": null,
   "id": "1f7a83cf",
   "metadata": {},
   "outputs": [],
   "source": []
  },
  {
   "cell_type": "code",
   "execution_count": 9,
   "id": "a5891642",
   "metadata": {},
   "outputs": [],
   "source": [
    "ttpath = \"/media/ubuntu/8TB/hayriye/DEEPScreen2.0/training_files/target_training_datasets\"\n",
    "protein_path = os.path.join(ttpath, \"CHEMBL4282\")"
   ]
  },
  {
   "cell_type": "code",
   "execution_count": 10,
   "id": "d7e25063",
   "metadata": {},
   "outputs": [
    {
     "name": "stdout",
     "output_type": "stream",
     "text": [
      "86514\n",
      "97329\n",
      "108144\n"
     ]
    }
   ],
   "source": [
    "import json\n",
    "\n",
    "with open(\"{}/train_val_test_dict.json\".format(protein_path), \"r+\") as f:\n",
    "    data = json.load(f)\n",
    "    \n",
    "    chem_id_list =[]\n",
    "    \n",
    "    for element in data[\"training\"]:\n",
    "        for elem in element:\n",
    "            chem_id_list.append(elem)\n",
    "            break\n",
    "    \n",
    "    print(len(chem_id_list))\n",
    "    \n",
    "    for element in data[\"test\"]:\n",
    "        for elem in element:\n",
    "            chem_id_list.append(elem)\n",
    "            break\n",
    "    print(len(chem_id_list))\n",
    "    \n",
    "    for element in data[\"validation\"]:\n",
    "        for elem in element:\n",
    "            chem_id_list.append(elem)\n",
    "            break\n",
    "    print(len(chem_id_list))\n",
    "    \n",
    "    #data['id'] = 134 # <--- add `id` value.\n",
    "    #f.seek(0)        # <--- should reset file position to the beginning.\n",
    "    #json.dump(data, f, indent=4)\n",
    "    #f.truncate()     # remove remaining part\n"
   ]
  },
  {
   "cell_type": "code",
   "execution_count": null,
   "id": "d7c2f58e",
   "metadata": {},
   "outputs": [],
   "source": []
  }
 ],
 "metadata": {
  "kernelspec": {
   "display_name": "Python 3 (ipykernel)",
   "language": "python",
   "name": "python3"
  },
  "language_info": {
   "codemirror_mode": {
    "name": "ipython",
    "version": 3
   },
   "file_extension": ".py",
   "mimetype": "text/x-python",
   "name": "python",
   "nbconvert_exporter": "python",
   "pygments_lexer": "ipython3",
   "version": "3.10.4"
  }
 },
 "nbformat": 4,
 "nbformat_minor": 5
}
