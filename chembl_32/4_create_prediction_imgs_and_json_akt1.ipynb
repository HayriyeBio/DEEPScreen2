{
 "cells": [
  {
   "cell_type": "code",
   "execution_count": 9,
   "id": "ed56d5d0",
   "metadata": {},
   "outputs": [
    {
     "ename": "ModuleNotFoundError",
     "evalue": "No module named 'rdkit'",
     "output_type": "error",
     "traceback": [
      "\u001b[0;31m---------------------------------------------------------------------------\u001b[0m",
      "\u001b[0;31mModuleNotFoundError\u001b[0m                       Traceback (most recent call last)",
      "Input \u001b[0;32mIn [9]\u001b[0m, in \u001b[0;36m<cell line: 8>\u001b[0;34m()\u001b[0m\n\u001b[1;32m      5\u001b[0m \u001b[38;5;28;01mimport\u001b[39;00m \u001b[38;5;21;01mnumpy\u001b[39;00m \u001b[38;5;28;01mas\u001b[39;00m \u001b[38;5;21;01mnp\u001b[39;00m\n\u001b[1;32m      6\u001b[0m \u001b[38;5;28;01mimport\u001b[39;00m \u001b[38;5;21;01mpandas\u001b[39;00m \u001b[38;5;28;01mas\u001b[39;00m \u001b[38;5;21;01mpd\u001b[39;00m\n\u001b[0;32m----> 8\u001b[0m \u001b[38;5;28;01mfrom\u001b[39;00m \u001b[38;5;21;01mrdkit\u001b[39;00m \u001b[38;5;28;01mimport\u001b[39;00m Chem\n\u001b[1;32m      9\u001b[0m \u001b[38;5;28;01mfrom\u001b[39;00m \u001b[38;5;21;01mrdkit\u001b[39;00m\u001b[38;5;21;01m.\u001b[39;00m\u001b[38;5;21;01mChem\u001b[39;00m\u001b[38;5;21;01m.\u001b[39;00m\u001b[38;5;21;01mDraw\u001b[39;00m\u001b[38;5;21;01m.\u001b[39;00m\u001b[38;5;21;01mMolDrawing\u001b[39;00m \u001b[38;5;28;01mimport\u001b[39;00m DrawingOptions\n\u001b[1;32m     10\u001b[0m \u001b[38;5;28;01mfrom\u001b[39;00m \u001b[38;5;21;01mrdkit\u001b[39;00m\u001b[38;5;21;01m.\u001b[39;00m\u001b[38;5;21;01mChem\u001b[39;00m \u001b[38;5;28;01mimport\u001b[39;00m Draw\n",
      "\u001b[0;31mModuleNotFoundError\u001b[0m: No module named 'rdkit'"
     ]
    }
   ],
   "source": [
    "import os\n",
    "import cv2\n",
    "import json\n",
    "#import rdkit\n",
    "import numpy as np\n",
    "import pandas as pd\n",
    "\n",
    "from rdkit import Chem\n",
    "from rdkit.Chem.Draw.MolDrawing import DrawingOptions\n",
    "from rdkit.Chem import Draw\n",
    "\n",
    "import cairosvg\n",
    "import subprocess"
   ]
  },
  {
   "cell_type": "code",
   "execution_count": null,
   "id": "84fdb542",
   "metadata": {},
   "outputs": [],
   "source": []
  },
  {
   "cell_type": "code",
   "execution_count": null,
   "id": "c6c06281",
   "metadata": {},
   "outputs": [],
   "source": [
    "def save_comp_imgs_from_smiles(tar_id, comp_id, smiles, rot=0, SIZE=200, rot_size=300):\n",
    "    mol = Chem.MolFromSmiles(smiles)\n",
    "    DrawingOptions.atomLabelFontSize = 55\n",
    "    DrawingOptions.dotsPerAngstrom = 100\n",
    "    DrawingOptions.bondLineWidth = 1.5\n",
    "    # Use MolToFile(mol, path, size, imageType=\"png\", fitImage=True)\n",
    "    \n",
    "    # For higher quality of image\n",
    "    path_to_give_svg = os.path.join(prediction_files_path, \"target_prediction_dataset\", \n",
    "                                tar_id, \"imgs\", \"{}.svg\".format(comp_id))\n",
    "    \n",
    "    path_to_give_png = os.path.join(prediction_files_path, \"target_prediction_dataset\", \n",
    "                                    tar_id, \"imgs\", \"{}.png\".format(comp_id))\n",
    "    \n",
    "    Draw.MolToFile(mol, path_to_give_svg , size = (SIZE, SIZE ))\n",
    "    cairosvg.svg2png(url = path_to_give_svg, write_to = path_to_give_png)\n",
    "    subprocess.call([\"rm\", path_to_give_svg])\n",
    "    \n",
    "    # Make it larger with padding to prevent data loss while rotation\n",
    "    image = cv2.imread(path_to_give_png)\n",
    "    \n",
    "    white_color = (255,255,255)\n",
    "    full_image = np.full((rot_size, rot_size, 3), white_color, dtype = np.uint8)\n",
    "    # compute center offset\n",
    "    gap = rot_size - SIZE\n",
    "    (cX, cY) = (gap // 2, gap // 2)\n",
    "    \n",
    "    # copy image into center of result image\n",
    "    full_image[cY:cY + SIZE, cX:cX + SIZE] = image\n",
    "    \n",
    "    if rot != 0:\n",
    "        # Rotate it\n",
    "        (cX, cY) = (rot_size // 2, rot_size // 2)\n",
    "        M = cv2.getRotationMatrix2D((cX, cY), rot, 1.0)\n",
    "        full_image = cv2.warpAffine(full_image, M, (rot_size, rot_size), borderMode=cv2.INTER_LINEAR, #cv2.BORDER_CONSTANT, \n",
    "                                    borderValue = white_color)\n",
    "    \n",
    "    # save result\n",
    "    cv2.imwrite(path_to_give_png, full_image)"
   ]
  },
  {
   "cell_type": "code",
   "execution_count": 2,
   "id": "d9f7c5d6",
   "metadata": {},
   "outputs": [],
   "source": [
    "protein_name = \"CHEMBL4282_all\""
   ]
  },
  {
   "cell_type": "code",
   "execution_count": null,
   "id": "6d6e7e1c",
   "metadata": {},
   "outputs": [],
   "source": []
  },
  {
   "cell_type": "code",
   "execution_count": 3,
   "id": "1296f844",
   "metadata": {},
   "outputs": [
    {
     "data": {
      "text/plain": [
       "'/home/hayriye/DEEPScreen2.0/chembl_31'"
      ]
     },
     "execution_count": 3,
     "metadata": {},
     "output_type": "execute_result"
    }
   ],
   "source": [
    "pwd"
   ]
  },
  {
   "cell_type": "code",
   "execution_count": null,
   "id": "acacb9f0",
   "metadata": {},
   "outputs": [],
   "source": []
  },
  {
   "cell_type": "code",
   "execution_count": 4,
   "id": "e0119404",
   "metadata": {},
   "outputs": [],
   "source": [
    "prediction_files_path = \"/home/hayriye/DEEPScreen2.0/prediction_files/\""
   ]
  },
  {
   "cell_type": "code",
   "execution_count": 5,
   "id": "d2eac513",
   "metadata": {},
   "outputs": [],
   "source": [
    "target_prediction_dataset_path = prediction_files_path + \"target_prediction_dataset/\""
   ]
  },
  {
   "cell_type": "code",
   "execution_count": null,
   "id": "daf09c2b",
   "metadata": {},
   "outputs": [],
   "source": []
  },
  {
   "cell_type": "code",
   "execution_count": 6,
   "id": "b49cbfe2",
   "metadata": {},
   "outputs": [],
   "source": [
    "smiles_path = prediction_files_path + \"molecule_smiles_dataset/\""
   ]
  },
  {
   "cell_type": "code",
   "execution_count": 12,
   "id": "71cde051",
   "metadata": {},
   "outputs": [],
   "source": [
    "smiles_file = smiles_path + \"filtered_all_generated_molecules.csv\""
   ]
  },
  {
   "cell_type": "code",
   "execution_count": null,
   "id": "d1a6e14c",
   "metadata": {},
   "outputs": [],
   "source": []
  },
  {
   "cell_type": "code",
   "execution_count": 14,
   "id": "595fce0b",
   "metadata": {},
   "outputs": [
    {
     "name": "stdout",
     "output_type": "stream",
     "text": [
      "43340\n"
     ]
    },
    {
     "data": {
      "text/html": [
       "<div>\n",
       "<style scoped>\n",
       "    .dataframe tbody tr th:only-of-type {\n",
       "        vertical-align: middle;\n",
       "    }\n",
       "\n",
       "    .dataframe tbody tr th {\n",
       "        vertical-align: top;\n",
       "    }\n",
       "\n",
       "    .dataframe thead th {\n",
       "        text-align: right;\n",
       "    }\n",
       "</style>\n",
       "<table border=\"1\" class=\"dataframe\">\n",
       "  <thead>\n",
       "    <tr style=\"text-align: right;\">\n",
       "      <th></th>\n",
       "      <th>MOL_ID</th>\n",
       "      <th>SMILES</th>\n",
       "    </tr>\n",
       "  </thead>\n",
       "  <tbody>\n",
       "    <tr>\n",
       "      <th>0</th>\n",
       "      <td>MOL_01_000001</td>\n",
       "      <td>O=C(O)C(C=1)=Nc(c12)ncc3c2=NN(C3=O)c4ccccc4</td>\n",
       "    </tr>\n",
       "    <tr>\n",
       "      <th>1</th>\n",
       "      <td>MOL_01_000002</td>\n",
       "      <td>N1=CC(C)=c(c12)cc3c(c2C)=NC(=O)C(=C3C)CC(=O)NC...</td>\n",
       "    </tr>\n",
       "    <tr>\n",
       "      <th>2</th>\n",
       "      <td>MOL_01_000003</td>\n",
       "      <td>CC1CCC(CC1)NC(=O)C(C)N(N=C2C)C(=O)C(C23C)=NN3c...</td>\n",
       "    </tr>\n",
       "    <tr>\n",
       "      <th>3</th>\n",
       "      <td>MOL_01_000004</td>\n",
       "      <td>c1ccccc1C2C(=N\\c(c3)ccc(c34)O4)\\N(C(=O)CC2C(=O...</td>\n",
       "    </tr>\n",
       "    <tr>\n",
       "      <th>4</th>\n",
       "      <td>MOL_01_000005</td>\n",
       "      <td>n1cccc(c12)cccc2C(=O)N(C3)CCC(C34)CCc5c(O4)c6c...</td>\n",
       "    </tr>\n",
       "  </tbody>\n",
       "</table>\n",
       "</div>"
      ],
      "text/plain": [
       "          MOL_ID                                             SMILES\n",
       "0  MOL_01_000001        O=C(O)C(C=1)=Nc(c12)ncc3c2=NN(C3=O)c4ccccc4\n",
       "1  MOL_01_000002  N1=CC(C)=c(c12)cc3c(c2C)=NC(=O)C(=C3C)CC(=O)NC...\n",
       "2  MOL_01_000003  CC1CCC(CC1)NC(=O)C(C)N(N=C2C)C(=O)C(C23C)=NN3c...\n",
       "3  MOL_01_000004  c1ccccc1C2C(=N\\c(c3)ccc(c34)O4)\\N(C(=O)CC2C(=O...\n",
       "4  MOL_01_000005  n1cccc(c12)cccc2C(=O)N(C3)CCC(C34)CCc5c(O4)c6c..."
      ]
     },
     "execution_count": 14,
     "metadata": {},
     "output_type": "execute_result"
    }
   ],
   "source": [
    "all_df = pd.read_csv(smiles_file, sep=\";\")\n",
    "print(len(all_df))\n",
    "all_df.head()"
   ]
  },
  {
   "cell_type": "code",
   "execution_count": 39,
   "id": "40f361e7",
   "metadata": {},
   "outputs": [
    {
     "data": {
      "text/plain": [
       "RangeIndex(start=0, stop=14737, step=1)"
      ]
     },
     "execution_count": 39,
     "metadata": {},
     "output_type": "execute_result"
    }
   ],
   "source": [
    "all_df.index"
   ]
  },
  {
   "cell_type": "code",
   "execution_count": 45,
   "id": "5728d7a3",
   "metadata": {},
   "outputs": [
    {
     "data": {
      "text/plain": [
       "MOL_ID                                      MOL_01_000779\n",
       "SMILES_x    CC1(C)CN(C(O)Cc2nc(O)cc(N3CCOCC3)n2)c2ccccc21\n",
       "Name: 0, dtype: object"
      ]
     },
     "execution_count": 45,
     "metadata": {},
     "output_type": "execute_result"
    }
   ],
   "source": [
    "all_df.iloc[0]"
   ]
  },
  {
   "cell_type": "code",
   "execution_count": null,
   "id": "f8171046",
   "metadata": {},
   "outputs": [],
   "source": []
  },
  {
   "cell_type": "code",
   "execution_count": 38,
   "id": "40c383bd",
   "metadata": {},
   "outputs": [],
   "source": [
    "if not os.path.exists(target_prediction_dataset_path + protein_name + \"/imgs\"):\n",
    "    os.makedirs(target_prediction_dataset_path + protein_name + \"/imgs\")\n",
    "\n",
    "f = open(target_prediction_dataset_path + protein_name + \"/prediction_dict.json\", \"w+\")\n",
    "\n",
    "json_dict = {\"prediction\": list()}\n",
    "json_object = json.dumps(json_dict) \n",
    "\n",
    "f.write(json_object)\n",
    "f.close()"
   ]
  },
  {
   "cell_type": "code",
   "execution_count": null,
   "id": "f4238efc",
   "metadata": {},
   "outputs": [],
   "source": []
  },
  {
   "cell_type": "code",
   "execution_count": 46,
   "id": "9ceee6d5",
   "metadata": {},
   "outputs": [
    {
     "name": "stderr",
     "output_type": "stream",
     "text": [
      "Predictions…:   0%|                                                                 | 1/14737 [00:01<6:39:16,  1.63s/it]"
     ]
    },
    {
     "name": "stdout",
     "output_type": "stream",
     "text": [
      "MOL_01_000779 CC1(C)CN(C(O)Cc2nc(O)cc(N3CCOCC3)n2)c2ccccc21\n"
     ]
    },
    {
     "name": "stderr",
     "output_type": "stream",
     "text": [
      "Predictions…:   7%|████▏                                                         | 1001/14737 [26:32<5:53:37,  1.54s/it]"
     ]
    },
    {
     "name": "stdout",
     "output_type": "stream",
     "text": [
      "MOL_01_025057 Nc1c2cc(C(N)Cc3ccc(F)cc3F)cc-2nc2ccccn12\n"
     ]
    },
    {
     "name": "stderr",
     "output_type": "stream",
     "text": [
      "Predictions…:  14%|████████▍                                                     | 2001/14737 [56:22<6:10:48,  1.75s/it]"
     ]
    },
    {
     "name": "stdout",
     "output_type": "stream",
     "text": [
      "MOL_01_026065 Cc1cccc(N2CCN(C(=O)CN3C(=O)N=C4C=CC=C4C3=O)CC2C)c1\n"
     ]
    },
    {
     "name": "stderr",
     "output_type": "stream",
     "text": [
      "Predictions…:  20%|████████████▏                                               | 3001/14737 [1:23:58<4:41:35,  1.44s/it]"
     ]
    },
    {
     "name": "stdout",
     "output_type": "stream",
     "text": [
      "MOL_01_027075 NC(=O)CCCCC(=O)c1ccc(CN2C(=O)N=C3C=CC=C3C2=O)cc1\n"
     ]
    },
    {
     "name": "stderr",
     "output_type": "stream",
     "text": [
      "Predictions…:  27%|████████████████▎                                           | 4001/14737 [1:49:20<4:30:48,  1.51s/it]"
     ]
    },
    {
     "name": "stdout",
     "output_type": "stream",
     "text": [
      "MOL_01_028080 CC(C)N1C(=N)N(c2ccc(CCc3ccccc3)cn2)CC1(C)C\n"
     ]
    },
    {
     "name": "stderr",
     "output_type": "stream",
     "text": [
      "Predictions…:  34%|████████████████████▎                                       | 5001/14737 [2:14:16<4:16:30,  1.58s/it]"
     ]
    },
    {
     "name": "stdout",
     "output_type": "stream",
     "text": [
      "MOL_01_029085 Cc1nc(CCC(N)Nc2ccccc2Cl)cc(-c2ccccc2)n1\n"
     ]
    },
    {
     "name": "stderr",
     "output_type": "stream",
     "text": [
      "Predictions…:  41%|████████████████████████▍                                   | 6001/14737 [2:39:42<4:06:06,  1.69s/it]"
     ]
    },
    {
     "name": "stdout",
     "output_type": "stream",
     "text": [
      "MOL_01_030086 Cc1cc(Cl)cc(NC(=N)Cc2ccc(NC3(C(=N)N)CCC(C)C3)cc2)c1\n"
     ]
    },
    {
     "name": "stderr",
     "output_type": "stream",
     "text": [
      "Predictions…:  48%|████████████████████████████▌                               | 7001/14737 [3:08:48<4:13:44,  1.97s/it]"
     ]
    },
    {
     "name": "stdout",
     "output_type": "stream",
     "text": [
      "MOL_01_031090 N=C(NCc1ccc(Cl)cc1)NNC(=N)C1CN(N)Cc2ccccc21\n"
     ]
    },
    {
     "name": "stderr",
     "output_type": "stream",
     "text": [
      "Predictions…:  54%|████████████████████████████████▌                           | 8001/14737 [3:37:22<2:59:40,  1.60s/it]"
     ]
    },
    {
     "name": "stdout",
     "output_type": "stream",
     "text": [
      "MOL_01_032090 N=C(Nc1cccnc1Oc1ccc(ON)cc1)N1CCC(N)C1\n"
     ]
    },
    {
     "name": "stderr",
     "output_type": "stream",
     "text": [
      "Predictions…:  61%|████████████████████████████████████▋                       | 9001/14737 [4:01:13<2:47:45,  1.75s/it]"
     ]
    },
    {
     "name": "stdout",
     "output_type": "stream",
     "text": [
      "MOL_01_037543 CCC1(NC)*c2ccc(Cl)cc2C(CC(=O)Nc2cnc3c(c2)CC(=O)C(OCO)C3)C1\n"
     ]
    },
    {
     "name": "stderr",
     "output_type": "stream",
     "text": [
      "Predictions…:  68%|████████████████████████████████████████                   | 10001/14737 [4:29:37<2:18:27,  1.75s/it]"
     ]
    },
    {
     "name": "stdout",
     "output_type": "stream",
     "text": [
      "MOL_01_038705 Nc1cccc(C(=O)CC2CC(c3ncncc3F)c3ccccc3N(N)C2=O)c1\n"
     ]
    },
    {
     "name": "stderr",
     "output_type": "stream",
     "text": [
      "Predictions…:  75%|████████████████████████████████████████████               | 11001/14737 [4:58:03<1:45:11,  1.69s/it]"
     ]
    },
    {
     "name": "stdout",
     "output_type": "stream",
     "text": [
      "MOL_01_039763 NC(CCNC(=O)c1cnc2ccccc2c1)CN1CCN(c2ccnc3ccccc23)CN1\n"
     ]
    },
    {
     "name": "stderr",
     "output_type": "stream",
     "text": [
      "Predictions…:  81%|████████████████████████████████████████████████           | 12001/14737 [5:24:41<1:05:49,  1.44s/it]"
     ]
    },
    {
     "name": "stdout",
     "output_type": "stream",
     "text": [
      "MOL_01_040821 C#CCC(O)NN1C=CN(NCC2CCN(c3ccnc4c3OCC4)CC2)CN1\n"
     ]
    },
    {
     "name": "stderr",
     "output_type": "stream",
     "text": [
      "Predictions…:  88%|█████████████████████████████████████████████████████▊       | 13001/14737 [5:49:18<41:26,  1.43s/it]"
     ]
    },
    {
     "name": "stdout",
     "output_type": "stream",
     "text": [
      "MOL_01_041882 COc1cc(-c2ccc3cccc(Nc4ccc(C)c(N)c4F)c3c2)ccc1C\n"
     ]
    },
    {
     "name": "stderr",
     "output_type": "stream",
     "text": [
      "Predictions…:  95%|█████████████████████████████████████████████████████████▉   | 14001/14737 [6:12:21<14:27,  1.18s/it]"
     ]
    },
    {
     "name": "stdout",
     "output_type": "stream",
     "text": [
      "MOL_01_042966 *=S(N)(=O)c1ccccc1CC=C\n"
     ]
    },
    {
     "name": "stderr",
     "output_type": "stream",
     "text": [
      "Predictions…: 100%|█████████████████████████████████████████████████████████████| 14737/14737 [6:28:39<00:00,  1.58s/it]"
     ]
    },
    {
     "name": "stdout",
     "output_type": "stream",
     "text": [
      "530532\n"
     ]
    },
    {
     "name": "stderr",
     "output_type": "stream",
     "text": [
      "\n"
     ]
    }
   ],
   "source": [
    "total_image_count = 0\n",
    "angle_list = [str(angle) for angle in range(10,360,10)]\n",
    "\n",
    "from tqdm import tqdm\n",
    "\n",
    "for i in tqdm(range(0, len(all_df)), desc=\"Predictions…\", ascii=False, ncols=120):\n",
    "    \n",
    "    current_smiles = all_df.iloc[i][\"SMILES_x\"]\n",
    "\n",
    "    current_compound_id = all_df.iloc[i][\"MOL_ID\"]\n",
    "    \n",
    "    try:\n",
    "        save_comp_imgs_from_smiles(protein_name, current_compound_id, current_smiles)\n",
    "        total_image_count += 1\n",
    "        #print(total_image_count, current_compound_id, current_smiles)\n",
    "        \n",
    "        for angle in angle_list:\n",
    "        \n",
    "            save_comp_imgs_from_smiles(protein_name, current_compound_id+\"_\"+angle, current_smiles, int(angle))\n",
    "            total_image_count += 1\n",
    "            #print(total_image_count, current_compound_id+\"_\"+angle, current_smiles, int(angle))\n",
    "            \n",
    "    except Exception as e:\n",
    "        print(e, current_compound_id, current_smiles)\n",
    "    \n",
    "    if i % 1000 == 0:\n",
    "        print(current_compound_id, current_smiles)\n",
    "        \n",
    "print(total_image_count)"
   ]
  },
  {
   "cell_type": "code",
   "execution_count": null,
   "id": "7a63b897",
   "metadata": {},
   "outputs": [],
   "source": []
  },
  {
   "cell_type": "code",
   "execution_count": null,
   "id": "76db6b53",
   "metadata": {},
   "outputs": [],
   "source": []
  },
  {
   "cell_type": "code",
   "execution_count": null,
   "id": "45e523c8",
   "metadata": {},
   "outputs": [],
   "source": []
  },
  {
   "cell_type": "code",
   "execution_count": null,
   "id": "4f6537e6",
   "metadata": {},
   "outputs": [],
   "source": []
  },
  {
   "cell_type": "code",
   "execution_count": null,
   "id": "330775ba",
   "metadata": {},
   "outputs": [],
   "source": []
  },
  {
   "cell_type": "code",
   "execution_count": null,
   "id": "fb608525",
   "metadata": {},
   "outputs": [],
   "source": []
  },
  {
   "cell_type": "code",
   "execution_count": null,
   "id": "a0fe1f10",
   "metadata": {},
   "outputs": [],
   "source": []
  },
  {
   "cell_type": "code",
   "execution_count": 10,
   "id": "738bb646",
   "metadata": {},
   "outputs": [
    {
     "name": "stdout",
     "output_type": "stream",
     "text": [
      "38820\n",
      "['CCOc(cc1)ccc1CCNC(=O)Cn(cc2CC)c(=O)c(c2C3=4)C=C3N=C(C4)CC', 'CCC1CCCCN1Cc(c2)n(c(c23)c(=O)n(C)c(=O)n3C)Cc4c(N)cccc4O', 'O=C(O)C(C1)=Nc2ncc(c=3c=12)C(=O)N(N3)c4ccccc4', 'CC(C1)=NC2=Cc(c3C=12)c(=O)n(cc3CC)CC(=O)NCCCN(C)Cc4ccccc4', 'CC(C)CC(C(=O)O)NC(=O)CC(C(N1)=O)=C(C)c(c2)c=1c(C)c(c23)N=CC=3C', 'c1cc(N)ccc1C(=O)Nc(c2)ccc(O)c2C34C(CCO4)CCC(=N3)N', 'CC1CCC(CC1)NC(=O)C(C)N(N=C2C)C(=O)C(C23C)=NN3c4ccccc4', 'c12c(O2)ccc(c1)\\\\N=C3\\\\C(c4ccccc4)C(C(=O)NCC)CC(=O)N3Cc(c5)ccc(c56)OCO6', 'NC(=O)CC(C)NC(C12CC1)c3c(O2)c(c(N)cc3)C(=O)c4ccncc4', 'C1CCCN1Cc2c(O)cc(cc2)C(c3c(O4)cc(N)cc3)Nc5ccnc(c6)c5cc(O7)c6C47O']\n"
     ]
    }
   ],
   "source": [
    "# removing the new line characters\n",
    "with open(smiles_file) as f:\n",
    "    smiles_list = [line.rstrip() for line in f]\n",
    "\n",
    "    \n",
    "print(len(smiles_list))\n",
    "print(smiles_list[:10])"
   ]
  },
  {
   "cell_type": "code",
   "execution_count": 11,
   "id": "039919bb",
   "metadata": {},
   "outputs": [
    {
     "data": {
      "text/plain": [
       "'c1cccc(c12)NC(\\\\C2)=C(\\\\CC)c3ccnc(n3)N4CCOCC4'"
      ]
     },
     "execution_count": 11,
     "metadata": {},
     "output_type": "execute_result"
    }
   ],
   "source": [
    "smiles_list[67]"
   ]
  },
  {
   "cell_type": "code",
   "execution_count": null,
   "id": "8becc258",
   "metadata": {},
   "outputs": [],
   "source": []
  },
  {
   "cell_type": "code",
   "execution_count": 12,
   "id": "8a6b5d55",
   "metadata": {},
   "outputs": [
    {
     "name": "stdout",
     "output_type": "stream",
     "text": [
      "0 GANt0 CCOc(cc1)ccc1CCNC(=O)Cn(cc2CC)c(=O)c(c2C3=4)C=C3N=C(C4)CC\n",
      "100 GANt100 c1cc(C)ccc1CCC(N2CC(N3)=O)=Nc(c4C2=3)cccc4\n",
      "200 GANt200 Cc1c(C)cn(c12)ccnc2Nc(cc3)cc(O)c3C\n"
     ]
    },
    {
     "ename": "KeyboardInterrupt",
     "evalue": "",
     "output_type": "error",
     "traceback": [
      "\u001b[0;31m---------------------------------------------------------------------------\u001b[0m",
      "\u001b[0;31mKeyboardInterrupt\u001b[0m                         Traceback (most recent call last)",
      "\u001b[0;32m/tmp/ipykernel_3123183/191095283.py\u001b[0m in \u001b[0;36m<module>\u001b[0;34m\u001b[0m\n\u001b[1;32m     15\u001b[0m         \u001b[0;32mfor\u001b[0m \u001b[0mangle\u001b[0m \u001b[0;32min\u001b[0m \u001b[0mangle_list\u001b[0m\u001b[0;34m:\u001b[0m\u001b[0;34m\u001b[0m\u001b[0;34m\u001b[0m\u001b[0m\n\u001b[1;32m     16\u001b[0m \u001b[0;34m\u001b[0m\u001b[0m\n\u001b[0;32m---> 17\u001b[0;31m             \u001b[0msave_comp_imgs_from_smiles\u001b[0m\u001b[0;34m(\u001b[0m\u001b[0mprotein_name\u001b[0m\u001b[0;34m,\u001b[0m \u001b[0mcompound_id\u001b[0m\u001b[0;34m+\u001b[0m\u001b[0;34m\"_\"\u001b[0m\u001b[0;34m+\u001b[0m\u001b[0mangle\u001b[0m\u001b[0;34m,\u001b[0m \u001b[0mcurrent_smiles\u001b[0m\u001b[0;34m,\u001b[0m \u001b[0mint\u001b[0m\u001b[0;34m(\u001b[0m\u001b[0mangle\u001b[0m\u001b[0;34m)\u001b[0m\u001b[0;34m)\u001b[0m\u001b[0;34m\u001b[0m\u001b[0;34m\u001b[0m\u001b[0m\n\u001b[0m\u001b[1;32m     18\u001b[0m             \u001b[0mtotal_image_count\u001b[0m \u001b[0;34m+=\u001b[0m \u001b[0;36m1\u001b[0m\u001b[0;34m\u001b[0m\u001b[0;34m\u001b[0m\u001b[0m\n\u001b[1;32m     19\u001b[0m             \u001b[0;31m#print(total_image_count, compound_id+\"_\"+angle, current_smiles, int(angle))\u001b[0m\u001b[0;34m\u001b[0m\u001b[0;34m\u001b[0m\u001b[0;34m\u001b[0m\u001b[0m\n",
      "\u001b[0;32m/tmp/ipykernel_3123183/727762396.py\u001b[0m in \u001b[0;36msave_comp_imgs_from_smiles\u001b[0;34m(tar_id, comp_id, smiles, rot, SIZE, rot_size)\u001b[0m\n\u001b[1;32m     14\u001b[0m \u001b[0;34m\u001b[0m\u001b[0m\n\u001b[1;32m     15\u001b[0m     \u001b[0mDraw\u001b[0m\u001b[0;34m.\u001b[0m\u001b[0mMolToFile\u001b[0m\u001b[0;34m(\u001b[0m\u001b[0mmol\u001b[0m\u001b[0;34m,\u001b[0m \u001b[0mpath_to_give_svg\u001b[0m \u001b[0;34m,\u001b[0m \u001b[0msize\u001b[0m \u001b[0;34m=\u001b[0m \u001b[0;34m(\u001b[0m\u001b[0mSIZE\u001b[0m\u001b[0;34m,\u001b[0m \u001b[0mSIZE\u001b[0m \u001b[0;34m)\u001b[0m\u001b[0;34m)\u001b[0m\u001b[0;34m\u001b[0m\u001b[0;34m\u001b[0m\u001b[0m\n\u001b[0;32m---> 16\u001b[0;31m     \u001b[0mcairosvg\u001b[0m\u001b[0;34m.\u001b[0m\u001b[0msvg2png\u001b[0m\u001b[0;34m(\u001b[0m\u001b[0murl\u001b[0m \u001b[0;34m=\u001b[0m \u001b[0mpath_to_give_svg\u001b[0m\u001b[0;34m,\u001b[0m \u001b[0mwrite_to\u001b[0m \u001b[0;34m=\u001b[0m \u001b[0mpath_to_give_png\u001b[0m\u001b[0;34m)\u001b[0m\u001b[0;34m\u001b[0m\u001b[0;34m\u001b[0m\u001b[0m\n\u001b[0m\u001b[1;32m     17\u001b[0m     \u001b[0msubprocess\u001b[0m\u001b[0;34m.\u001b[0m\u001b[0mcall\u001b[0m\u001b[0;34m(\u001b[0m\u001b[0;34m[\u001b[0m\u001b[0;34m\"rm\"\u001b[0m\u001b[0;34m,\u001b[0m \u001b[0mpath_to_give_svg\u001b[0m\u001b[0;34m]\u001b[0m\u001b[0;34m)\u001b[0m\u001b[0;34m\u001b[0m\u001b[0;34m\u001b[0m\u001b[0m\n\u001b[1;32m     18\u001b[0m \u001b[0;34m\u001b[0m\u001b[0m\n",
      "\u001b[0;32m~/anaconda3/envs/RDKit/lib/python3.7/site-packages/cairosvg/__init__.py\u001b[0m in \u001b[0;36msvg2png\u001b[0;34m(bytestring, file_obj, url, dpi, parent_width, parent_height, scale, unsafe, background_color, negate_colors, invert_images, write_to, output_width, output_height)\u001b[0m\n\u001b[1;32m     58\u001b[0m         \u001b[0mbackground_color\u001b[0m\u001b[0;34m=\u001b[0m\u001b[0mbackground_color\u001b[0m\u001b[0;34m,\u001b[0m \u001b[0mnegate_colors\u001b[0m\u001b[0;34m=\u001b[0m\u001b[0mnegate_colors\u001b[0m\u001b[0;34m,\u001b[0m\u001b[0;34m\u001b[0m\u001b[0;34m\u001b[0m\u001b[0m\n\u001b[1;32m     59\u001b[0m         \u001b[0minvert_images\u001b[0m\u001b[0;34m=\u001b[0m\u001b[0minvert_images\u001b[0m\u001b[0;34m,\u001b[0m \u001b[0munsafe\u001b[0m\u001b[0;34m=\u001b[0m\u001b[0munsafe\u001b[0m\u001b[0;34m,\u001b[0m \u001b[0mwrite_to\u001b[0m\u001b[0;34m=\u001b[0m\u001b[0mwrite_to\u001b[0m\u001b[0;34m,\u001b[0m\u001b[0;34m\u001b[0m\u001b[0;34m\u001b[0m\u001b[0m\n\u001b[0;32m---> 60\u001b[0;31m         output_width=output_width, output_height=output_height)\n\u001b[0m\u001b[1;32m     61\u001b[0m \u001b[0;34m\u001b[0m\u001b[0m\n\u001b[1;32m     62\u001b[0m \u001b[0;34m\u001b[0m\u001b[0m\n",
      "\u001b[0;32m~/anaconda3/envs/RDKit/lib/python3.7/site-packages/cairosvg/surface.py\u001b[0m in \u001b[0;36mconvert\u001b[0;34m(cls, bytestring, file_obj, url, dpi, parent_width, parent_height, scale, unsafe, background_color, negate_colors, invert_images, write_to, output_width, output_height, **kwargs)\u001b[0m\n\u001b[1;32m    127\u001b[0m         tree = Tree(\n\u001b[1;32m    128\u001b[0m             \u001b[0mbytestring\u001b[0m\u001b[0;34m=\u001b[0m\u001b[0mbytestring\u001b[0m\u001b[0;34m,\u001b[0m \u001b[0mfile_obj\u001b[0m\u001b[0;34m=\u001b[0m\u001b[0mfile_obj\u001b[0m\u001b[0;34m,\u001b[0m \u001b[0murl\u001b[0m\u001b[0;34m=\u001b[0m\u001b[0murl\u001b[0m\u001b[0;34m,\u001b[0m \u001b[0munsafe\u001b[0m\u001b[0;34m=\u001b[0m\u001b[0munsafe\u001b[0m\u001b[0;34m,\u001b[0m\u001b[0;34m\u001b[0m\u001b[0;34m\u001b[0m\u001b[0m\n\u001b[0;32m--> 129\u001b[0;31m             **kwargs)\n\u001b[0m\u001b[1;32m    130\u001b[0m         \u001b[0moutput\u001b[0m \u001b[0;34m=\u001b[0m \u001b[0mwrite_to\u001b[0m \u001b[0;32mor\u001b[0m \u001b[0mio\u001b[0m\u001b[0;34m.\u001b[0m\u001b[0mBytesIO\u001b[0m\u001b[0;34m(\u001b[0m\u001b[0;34m)\u001b[0m\u001b[0;34m\u001b[0m\u001b[0;34m\u001b[0m\u001b[0m\n\u001b[1;32m    131\u001b[0m         instance = cls(\n",
      "\u001b[0;32m~/anaconda3/envs/RDKit/lib/python3.7/site-packages/cairosvg/parser.py\u001b[0m in \u001b[0;36m__init__\u001b[0;34m(self, **kwargs)\u001b[0m\n\u001b[1;32m    390\u001b[0m             tree = ElementTree.fromstring(\n\u001b[1;32m    391\u001b[0m                 \u001b[0mbytestring\u001b[0m\u001b[0;34m,\u001b[0m \u001b[0mforbid_entities\u001b[0m\u001b[0;34m=\u001b[0m\u001b[0;32mnot\u001b[0m \u001b[0munsafe\u001b[0m\u001b[0;34m,\u001b[0m\u001b[0;34m\u001b[0m\u001b[0;34m\u001b[0m\u001b[0m\n\u001b[0;32m--> 392\u001b[0;31m                 forbid_external=not unsafe)\n\u001b[0m\u001b[1;32m    393\u001b[0m         \u001b[0mself\u001b[0m\u001b[0;34m.\u001b[0m\u001b[0mxml_tree\u001b[0m \u001b[0;34m=\u001b[0m \u001b[0mtree\u001b[0m\u001b[0;34m\u001b[0m\u001b[0;34m\u001b[0m\u001b[0m\n\u001b[1;32m    394\u001b[0m         \u001b[0mroot\u001b[0m \u001b[0;34m=\u001b[0m \u001b[0mcssselect2\u001b[0m\u001b[0;34m.\u001b[0m\u001b[0mElementWrapper\u001b[0m\u001b[0;34m.\u001b[0m\u001b[0mfrom_xml_root\u001b[0m\u001b[0;34m(\u001b[0m\u001b[0mtree\u001b[0m\u001b[0;34m)\u001b[0m\u001b[0;34m\u001b[0m\u001b[0;34m\u001b[0m\u001b[0m\n",
      "\u001b[0;32m~/anaconda3/envs/RDKit/lib/python3.7/site-packages/defusedxml/common.py\u001b[0m in \u001b[0;36mfromstring\u001b[0;34m(text, forbid_dtd, forbid_entities, forbid_external)\u001b[0m\n\u001b[1;32m    124\u001b[0m             \u001b[0mforbid_external\u001b[0m\u001b[0;34m=\u001b[0m\u001b[0mforbid_external\u001b[0m\u001b[0;34m,\u001b[0m\u001b[0;34m\u001b[0m\u001b[0;34m\u001b[0m\u001b[0m\n\u001b[1;32m    125\u001b[0m         )\n\u001b[0;32m--> 126\u001b[0;31m         \u001b[0mparser\u001b[0m\u001b[0;34m.\u001b[0m\u001b[0mfeed\u001b[0m\u001b[0;34m(\u001b[0m\u001b[0mtext\u001b[0m\u001b[0;34m)\u001b[0m\u001b[0;34m\u001b[0m\u001b[0;34m\u001b[0m\u001b[0m\n\u001b[0m\u001b[1;32m    127\u001b[0m         \u001b[0;32mreturn\u001b[0m \u001b[0mparser\u001b[0m\u001b[0;34m.\u001b[0m\u001b[0mclose\u001b[0m\u001b[0;34m(\u001b[0m\u001b[0;34m)\u001b[0m\u001b[0;34m\u001b[0m\u001b[0;34m\u001b[0m\u001b[0m\n\u001b[1;32m    128\u001b[0m \u001b[0;34m\u001b[0m\u001b[0m\n",
      "\u001b[0;32m~/anaconda3/envs/RDKit/lib/python3.7/xml/etree/ElementTree.py\u001b[0m in \u001b[0;36mfeed\u001b[0;34m(self, data)\u001b[0m\n\u001b[1;32m   1628\u001b[0m         \u001b[0;34m\"\"\"Feed encoded data to parser.\"\"\"\u001b[0m\u001b[0;34m\u001b[0m\u001b[0;34m\u001b[0m\u001b[0m\n\u001b[1;32m   1629\u001b[0m         \u001b[0;32mtry\u001b[0m\u001b[0;34m:\u001b[0m\u001b[0;34m\u001b[0m\u001b[0;34m\u001b[0m\u001b[0m\n\u001b[0;32m-> 1630\u001b[0;31m             \u001b[0mself\u001b[0m\u001b[0;34m.\u001b[0m\u001b[0mparser\u001b[0m\u001b[0;34m.\u001b[0m\u001b[0mParse\u001b[0m\u001b[0;34m(\u001b[0m\u001b[0mdata\u001b[0m\u001b[0;34m,\u001b[0m \u001b[0;36m0\u001b[0m\u001b[0;34m)\u001b[0m\u001b[0;34m\u001b[0m\u001b[0;34m\u001b[0m\u001b[0m\n\u001b[0m\u001b[1;32m   1631\u001b[0m         \u001b[0;32mexcept\u001b[0m \u001b[0mself\u001b[0m\u001b[0;34m.\u001b[0m\u001b[0m_error\u001b[0m \u001b[0;32mas\u001b[0m \u001b[0mv\u001b[0m\u001b[0;34m:\u001b[0m\u001b[0;34m\u001b[0m\u001b[0;34m\u001b[0m\u001b[0m\n\u001b[1;32m   1632\u001b[0m             \u001b[0mself\u001b[0m\u001b[0;34m.\u001b[0m\u001b[0m_raiseerror\u001b[0m\u001b[0;34m(\u001b[0m\u001b[0mv\u001b[0m\u001b[0;34m)\u001b[0m\u001b[0;34m\u001b[0m\u001b[0;34m\u001b[0m\u001b[0m\n",
      "\u001b[0;32m/home/builder/tkoch/workspace/python_1648536129212/work/Modules/pyexpat.c\u001b[0m in \u001b[0;36mStartElement\u001b[0;34m()\u001b[0m\n",
      "\u001b[0;32m~/anaconda3/envs/RDKit/lib/python3.7/xml/etree/ElementTree.py\u001b[0m in \u001b[0;36m_start\u001b[0;34m(self, tag, attr_list)\u001b[0m\n\u001b[1;32m   1542\u001b[0m         \u001b[0;32mreturn\u001b[0m \u001b[0mname\u001b[0m\u001b[0;34m\u001b[0m\u001b[0;34m\u001b[0m\u001b[0m\n\u001b[1;32m   1543\u001b[0m \u001b[0;34m\u001b[0m\u001b[0m\n\u001b[0;32m-> 1544\u001b[0;31m     \u001b[0;32mdef\u001b[0m \u001b[0m_start\u001b[0m\u001b[0;34m(\u001b[0m\u001b[0mself\u001b[0m\u001b[0;34m,\u001b[0m \u001b[0mtag\u001b[0m\u001b[0;34m,\u001b[0m \u001b[0mattr_list\u001b[0m\u001b[0;34m)\u001b[0m\u001b[0;34m:\u001b[0m\u001b[0;34m\u001b[0m\u001b[0;34m\u001b[0m\u001b[0m\n\u001b[0m\u001b[1;32m   1545\u001b[0m         \u001b[0;31m# Handler for expat's StartElementHandler. Since ordered_attributes\u001b[0m\u001b[0;34m\u001b[0m\u001b[0;34m\u001b[0m\u001b[0;34m\u001b[0m\u001b[0m\n\u001b[1;32m   1546\u001b[0m         \u001b[0;31m# is set, the attributes are reported as a list of alternating\u001b[0m\u001b[0;34m\u001b[0m\u001b[0;34m\u001b[0m\u001b[0;34m\u001b[0m\u001b[0m\n",
      "\u001b[0;31mKeyboardInterrupt\u001b[0m: "
     ]
    }
   ],
   "source": [
    "compound_prefix = \"GANt\"\n",
    "GAN_name_count = 0\n",
    "total_image_count = 0\n",
    "angle_list = [str(angle) for angle in range(10,360,10)]\n",
    "\n",
    "\n",
    "from tqdm import tqdm\n",
    "\n",
    "for i in tqdm(range(0, len(smiles_list)), desc=\"Predictions…\", ascii=False, ncols=120):\n",
    "    current_smiles = smiles_list[i]\n",
    "\n",
    "#for current_smiles in smiles_list:\n",
    "    \n",
    "    compound_id = compound_prefix + str(GAN_name_count)\n",
    "    \n",
    "    try:\n",
    "        save_comp_imgs_from_smiles(protein_name, compound_id, current_smiles)\n",
    "        total_image_count += 1\n",
    "        #print(total_image_count, compound_id, current_smiles)\n",
    "        \n",
    "        for angle in angle_list:\n",
    "        \n",
    "            save_comp_imgs_from_smiles(protein_name, compound_id+\"_\"+angle, current_smiles, int(angle))\n",
    "            total_image_count += 1\n",
    "            #print(total_image_count, compound_id+\"_\"+angle, current_smiles, int(angle))\n",
    "            \n",
    "    except Exception as e:\n",
    "        print(e, GAN_name_count, compound_id, current_smiles)\n",
    "    \n",
    "    #if GAN_name_count % 1000 == 0:\n",
    "        #print(GAN_name_count, compound_id, current_smiles)\n",
    "    GAN_name_count += 1"
   ]
  },
  {
   "cell_type": "code",
   "execution_count": null,
   "id": "f4dbf7e8",
   "metadata": {},
   "outputs": [],
   "source": []
  },
  {
   "cell_type": "code",
   "execution_count": null,
   "id": "3acbf244",
   "metadata": {},
   "outputs": [],
   "source": []
  },
  {
   "cell_type": "code",
   "execution_count": null,
   "id": "0b4382bd",
   "metadata": {},
   "outputs": [],
   "source": []
  },
  {
   "cell_type": "code",
   "execution_count": null,
   "id": "a3eb2e77",
   "metadata": {},
   "outputs": [],
   "source": []
  },
  {
   "cell_type": "code",
   "execution_count": null,
   "id": "6e373fae",
   "metadata": {},
   "outputs": [],
   "source": []
  },
  {
   "cell_type": "code",
   "execution_count": null,
   "id": "99b8c5b0",
   "metadata": {},
   "outputs": [],
   "source": []
  },
  {
   "cell_type": "code",
   "execution_count": null,
   "id": "5e16c209",
   "metadata": {},
   "outputs": [],
   "source": []
  },
  {
   "cell_type": "code",
   "execution_count": null,
   "id": "281b565d",
   "metadata": {},
   "outputs": [],
   "source": []
  },
  {
   "cell_type": "code",
   "execution_count": null,
   "id": "03162f2a",
   "metadata": {},
   "outputs": [],
   "source": []
  }
 ],
 "metadata": {
  "kernelspec": {
   "display_name": "Python 3 (ipykernel)",
   "language": "python",
   "name": "python3"
  },
  "language_info": {
   "codemirror_mode": {
    "name": "ipython",
    "version": 3
   },
   "file_extension": ".py",
   "mimetype": "text/x-python",
   "name": "python",
   "nbconvert_exporter": "python",
   "pygments_lexer": "ipython3",
   "version": "3.10.4"
  }
 },
 "nbformat": 4,
 "nbformat_minor": 5
}
